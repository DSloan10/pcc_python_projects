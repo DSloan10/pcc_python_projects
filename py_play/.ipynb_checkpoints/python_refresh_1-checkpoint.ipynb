{
 "cells": [
  {
   "cell_type": "code",
   "execution_count": 1,
   "metadata": {},
   "outputs": [
    {
     "name": "stdout",
     "output_type": "stream",
     "text": [
      "3\n"
     ]
    }
   ],
   "source": [
    "x = 3\n",
    "\n",
    "print(x)"
   ]
  },
  {
   "cell_type": "code",
   "execution_count": 2,
   "metadata": {},
   "outputs": [
    {
     "data": {
      "text/plain": [
       "3"
      ]
     },
     "execution_count": 2,
     "metadata": {},
     "output_type": "execute_result"
    }
   ],
   "source": [
    "x"
   ]
  },
  {
   "cell_type": "code",
   "execution_count": null,
   "metadata": {},
   "outputs": [],
   "source": []
  },
  {
   "cell_type": "code",
   "execution_count": 3,
   "metadata": {},
   "outputs": [
    {
     "data": {
      "text/plain": [
       "False"
      ]
     },
     "execution_count": 3,
     "metadata": {},
     "output_type": "execute_result"
    }
   ],
   "source": [
    "3 > 5"
   ]
  },
  {
   "cell_type": "code",
   "execution_count": 4,
   "metadata": {},
   "outputs": [
    {
     "data": {
      "text/plain": [
       "False"
      ]
     },
     "execution_count": 4,
     "metadata": {},
     "output_type": "execute_result"
    }
   ],
   "source": [
    "4 == 5"
   ]
  },
  {
   "cell_type": "code",
   "execution_count": 5,
   "metadata": {},
   "outputs": [
    {
     "data": {
      "text/plain": [
       "True"
      ]
     },
     "execution_count": 5,
     "metadata": {},
     "output_type": "execute_result"
    }
   ],
   "source": [
    "4 == 4"
   ]
  },
  {
   "cell_type": "code",
   "execution_count": 6,
   "metadata": {},
   "outputs": [
    {
     "data": {
      "text/plain": [
       "0"
      ]
     },
     "execution_count": 6,
     "metadata": {},
     "output_type": "execute_result"
    }
   ],
   "source": [
    "10 % 1"
   ]
  },
  {
   "cell_type": "code",
   "execution_count": 7,
   "metadata": {},
   "outputs": [
    {
     "data": {
      "text/plain": [
       "1"
      ]
     },
     "execution_count": 7,
     "metadata": {},
     "output_type": "execute_result"
    }
   ],
   "source": [
    "10 % 3"
   ]
  },
  {
   "cell_type": "code",
   "execution_count": 8,
   "metadata": {},
   "outputs": [
    {
     "data": {
      "text/plain": [
       "str"
      ]
     },
     "execution_count": 8,
     "metadata": {},
     "output_type": "execute_result"
    }
   ],
   "source": [
    "type(\"Hell\")"
   ]
  },
  {
   "cell_type": "code",
   "execution_count": 9,
   "metadata": {},
   "outputs": [
    {
     "data": {
      "text/plain": [
       "range(5, 10)"
      ]
     },
     "execution_count": 9,
     "metadata": {},
     "output_type": "execute_result"
    }
   ],
   "source": [
    "range (5, 10)"
   ]
  },
  {
   "cell_type": "code",
   "execution_count": 10,
   "metadata": {},
   "outputs": [
    {
     "data": {
      "text/plain": [
       "range"
      ]
     },
     "execution_count": 10,
     "metadata": {},
     "output_type": "execute_result"
    }
   ],
   "source": [
    "type(range(5, 10))"
   ]
  },
  {
   "cell_type": "code",
   "execution_count": 11,
   "metadata": {},
   "outputs": [
    {
     "data": {
      "text/plain": [
       "[5, 6, 7, 8, 9]"
      ]
     },
     "execution_count": 11,
     "metadata": {},
     "output_type": "execute_result"
    }
   ],
   "source": [
    "list(range(5, 10))"
   ]
  },
  {
   "cell_type": "code",
   "execution_count": 12,
   "metadata": {},
   "outputs": [
    {
     "data": {
      "text/plain": [
       "[0, 1, 2, 3, 4]"
      ]
     },
     "execution_count": 12,
     "metadata": {},
     "output_type": "execute_result"
    }
   ],
   "source": [
    "list(range(5))"
   ]
  },
  {
   "cell_type": "code",
   "execution_count": 13,
   "metadata": {},
   "outputs": [],
   "source": [
    "things = [\"Apple\", \"Grape\", 101, \"Onion\", False]"
   ]
  },
  {
   "cell_type": "code",
   "execution_count": 14,
   "metadata": {},
   "outputs": [
    {
     "data": {
      "text/plain": [
       "['Apple', 'Grape', 101, 'Onion', False]"
      ]
     },
     "execution_count": 14,
     "metadata": {},
     "output_type": "execute_result"
    }
   ],
   "source": [
    "things"
   ]
  },
  {
   "cell_type": "code",
   "execution_count": 15,
   "metadata": {},
   "outputs": [
    {
     "data": {
      "text/plain": [
       "'Apple'"
      ]
     },
     "execution_count": 15,
     "metadata": {},
     "output_type": "execute_result"
    }
   ],
   "source": [
    "things[0]"
   ]
  },
  {
   "cell_type": "code",
   "execution_count": 16,
   "metadata": {},
   "outputs": [
    {
     "data": {
      "text/plain": [
       "False"
      ]
     },
     "execution_count": 16,
     "metadata": {},
     "output_type": "execute_result"
    }
   ],
   "source": [
    "things[-1]"
   ]
  },
  {
   "cell_type": "code",
   "execution_count": 17,
   "metadata": {},
   "outputs": [
    {
     "data": {
      "text/plain": [
       "['Apple', 'Grape', 101, 'Onion']"
      ]
     },
     "execution_count": 17,
     "metadata": {},
     "output_type": "execute_result"
    }
   ],
   "source": [
    "things[:-1]"
   ]
  },
  {
   "cell_type": "code",
   "execution_count": 18,
   "metadata": {},
   "outputs": [
    {
     "data": {
      "text/plain": [
       "int"
      ]
     },
     "execution_count": 18,
     "metadata": {},
     "output_type": "execute_result"
    }
   ],
   "source": [
    "type(things[2])"
   ]
  },
  {
   "cell_type": "code",
   "execution_count": 19,
   "metadata": {},
   "outputs": [
    {
     "data": {
      "text/plain": [
       "str"
      ]
     },
     "execution_count": 19,
     "metadata": {},
     "output_type": "execute_result"
    }
   ],
   "source": [
    "type(things[3])"
   ]
  },
  {
   "cell_type": "code",
   "execution_count": 20,
   "metadata": {},
   "outputs": [
    {
     "data": {
      "text/plain": [
       "bool"
      ]
     },
     "execution_count": 20,
     "metadata": {},
     "output_type": "execute_result"
    }
   ],
   "source": [
    "type(things[4])"
   ]
  },
  {
   "cell_type": "code",
   "execution_count": 21,
   "metadata": {},
   "outputs": [
    {
     "data": {
      "text/plain": [
       "[11, 12, 13, 14, 15]"
      ]
     },
     "execution_count": 21,
     "metadata": {},
     "output_type": "execute_result"
    }
   ],
   "source": [
    "list(range(11,16))"
   ]
  },
  {
   "cell_type": "code",
   "execution_count": 22,
   "metadata": {},
   "outputs": [
    {
     "data": {
      "text/plain": [
       "6"
      ]
     },
     "execution_count": 22,
     "metadata": {},
     "output_type": "execute_result"
    }
   ],
   "source": [
    "sum([1, 2, 3])"
   ]
  },
  {
   "cell_type": "code",
   "execution_count": 23,
   "metadata": {},
   "outputs": [],
   "source": [
    "numbers = [19, 4, 33, 6]"
   ]
  },
  {
   "cell_type": "code",
   "execution_count": 24,
   "metadata": {},
   "outputs": [],
   "source": [
    "numbers.sort()"
   ]
  },
  {
   "cell_type": "code",
   "execution_count": 25,
   "metadata": {},
   "outputs": [
    {
     "data": {
      "text/plain": [
       "[4, 6, 19, 33]"
      ]
     },
     "execution_count": 25,
     "metadata": {},
     "output_type": "execute_result"
    }
   ],
   "source": [
    "numbers"
   ]
  },
  {
   "cell_type": "code",
   "execution_count": 26,
   "metadata": {},
   "outputs": [
    {
     "data": {
      "text/plain": [
       "33"
      ]
     },
     "execution_count": 26,
     "metadata": {},
     "output_type": "execute_result"
    }
   ],
   "source": [
    "numbers.pop()"
   ]
  },
  {
   "cell_type": "code",
   "execution_count": 27,
   "metadata": {},
   "outputs": [
    {
     "data": {
      "text/plain": [
       "[4, 6, 19]"
      ]
     },
     "execution_count": 27,
     "metadata": {},
     "output_type": "execute_result"
    }
   ],
   "source": [
    "numbers"
   ]
  },
  {
   "cell_type": "code",
   "execution_count": 28,
   "metadata": {},
   "outputs": [],
   "source": [
    "numbers.append(5)"
   ]
  },
  {
   "cell_type": "code",
   "execution_count": 29,
   "metadata": {},
   "outputs": [
    {
     "data": {
      "text/plain": [
       "[4, 6, 19, 5]"
      ]
     },
     "execution_count": 29,
     "metadata": {},
     "output_type": "execute_result"
    }
   ],
   "source": [
    "numbers"
   ]
  },
  {
   "cell_type": "code",
   "execution_count": 30,
   "metadata": {},
   "outputs": [
    {
     "data": {
      "text/plain": [
       "[4, 6, 19, 5]"
      ]
     },
     "execution_count": 30,
     "metadata": {},
     "output_type": "execute_result"
    }
   ],
   "source": [
    "numbers"
   ]
  },
  {
   "cell_type": "code",
   "execution_count": 31,
   "metadata": {},
   "outputs": [],
   "source": [
    "numbers.remove(5)"
   ]
  },
  {
   "cell_type": "code",
   "execution_count": 32,
   "metadata": {},
   "outputs": [
    {
     "data": {
      "text/plain": [
       "[4, 6, 19]"
      ]
     },
     "execution_count": 32,
     "metadata": {},
     "output_type": "execute_result"
    }
   ],
   "source": [
    "numbers"
   ]
  },
  {
   "cell_type": "code",
   "execution_count": 33,
   "metadata": {},
   "outputs": [],
   "source": [
    "numbers.append([7, 3, 99])"
   ]
  },
  {
   "cell_type": "code",
   "execution_count": 34,
   "metadata": {},
   "outputs": [
    {
     "data": {
      "text/plain": [
       "[4, 6, 19, [7, 3, 99]]"
      ]
     },
     "execution_count": 34,
     "metadata": {},
     "output_type": "execute_result"
    }
   ],
   "source": [
    "numbers"
   ]
  },
  {
   "cell_type": "code",
   "execution_count": 35,
   "metadata": {},
   "outputs": [],
   "source": [
    "numbers.remove([7, 3, 99])"
   ]
  },
  {
   "cell_type": "code",
   "execution_count": 36,
   "metadata": {},
   "outputs": [],
   "source": [
    "numbers.extend([7, 3, 99])"
   ]
  },
  {
   "cell_type": "code",
   "execution_count": 37,
   "metadata": {},
   "outputs": [
    {
     "data": {
      "text/plain": [
       "[4, 6, 19, 7, 3, 99]"
      ]
     },
     "execution_count": 37,
     "metadata": {},
     "output_type": "execute_result"
    }
   ],
   "source": [
    "numbers"
   ]
  },
  {
   "cell_type": "code",
   "execution_count": 38,
   "metadata": {},
   "outputs": [],
   "source": [
    "primes = [1, 2 , 3, 5, 7]"
   ]
  },
  {
   "cell_type": "code",
   "execution_count": 39,
   "metadata": {},
   "outputs": [
    {
     "data": {
      "text/plain": [
       "[1, 2, 3, 5, 7]"
      ]
     },
     "execution_count": 39,
     "metadata": {},
     "output_type": "execute_result"
    }
   ],
   "source": [
    "primes"
   ]
  },
  {
   "cell_type": "code",
   "execution_count": 40,
   "metadata": {},
   "outputs": [],
   "source": [
    "primes.remove(1)"
   ]
  },
  {
   "cell_type": "code",
   "execution_count": 41,
   "metadata": {},
   "outputs": [
    {
     "data": {
      "text/plain": [
       "[2, 3, 5, 7]"
      ]
     },
     "execution_count": 41,
     "metadata": {},
     "output_type": "execute_result"
    }
   ],
   "source": [
    "primes"
   ]
  },
  {
   "cell_type": "code",
   "execution_count": 42,
   "metadata": {},
   "outputs": [],
   "source": [
    "primes.extend([11, 13, 17])"
   ]
  },
  {
   "cell_type": "code",
   "execution_count": 43,
   "metadata": {},
   "outputs": [
    {
     "data": {
      "text/plain": [
       "[2, 3, 5, 7, 11, 13, 17]"
      ]
     },
     "execution_count": 43,
     "metadata": {},
     "output_type": "execute_result"
    }
   ],
   "source": [
    "primes"
   ]
  },
  {
   "cell_type": "code",
   "execution_count": 44,
   "metadata": {},
   "outputs": [],
   "source": [
    "primes.reverse()"
   ]
  },
  {
   "cell_type": "code",
   "execution_count": 45,
   "metadata": {},
   "outputs": [
    {
     "data": {
      "text/plain": [
       "[17, 13, 11, 7, 5, 3, 2]"
      ]
     },
     "execution_count": 45,
     "metadata": {},
     "output_type": "execute_result"
    }
   ],
   "source": [
    "primes"
   ]
  },
  {
   "cell_type": "code",
   "execution_count": 46,
   "metadata": {},
   "outputs": [
    {
     "data": {
      "text/plain": [
       "{'name': 'Doug', 'age': 33}"
      ]
     },
     "execution_count": 46,
     "metadata": {},
     "output_type": "execute_result"
    }
   ],
   "source": [
    "person = {\n",
    "    \"name\":\"Doug\",\n",
    "    \"age\": 33\n",
    "}\n",
    "\n",
    "person"
   ]
  },
  {
   "cell_type": "code",
   "execution_count": 47,
   "metadata": {},
   "outputs": [
    {
     "data": {
      "text/plain": [
       "'Doug'"
      ]
     },
     "execution_count": 47,
     "metadata": {},
     "output_type": "execute_result"
    }
   ],
   "source": [
    "person[\"name\"]"
   ]
  },
  {
   "cell_type": "code",
   "execution_count": 48,
   "metadata": {},
   "outputs": [
    {
     "data": {
      "text/plain": [
       "dict_keys(['name', 'age'])"
      ]
     },
     "execution_count": 48,
     "metadata": {},
     "output_type": "execute_result"
    }
   ],
   "source": [
    "person.keys()"
   ]
  },
  {
   "cell_type": "code",
   "execution_count": 49,
   "metadata": {},
   "outputs": [
    {
     "data": {
      "text/plain": [
       "dict_values(['Doug', 33])"
      ]
     },
     "execution_count": 49,
     "metadata": {},
     "output_type": "execute_result"
    }
   ],
   "source": [
    "person.values()"
   ]
  },
  {
   "cell_type": "code",
   "execution_count": 50,
   "metadata": {},
   "outputs": [
    {
     "data": {
      "text/plain": [
       "dict_items([('name', 'Doug'), ('age', 33)])"
      ]
     },
     "execution_count": 50,
     "metadata": {},
     "output_type": "execute_result"
    }
   ],
   "source": [
    "person.items()"
   ]
  },
  {
   "cell_type": "code",
   "execution_count": 51,
   "metadata": {},
   "outputs": [
    {
     "data": {
      "text/plain": [
       "2"
      ]
     },
     "execution_count": 51,
     "metadata": {},
     "output_type": "execute_result"
    }
   ],
   "source": [
    "len(person)"
   ]
  },
  {
   "cell_type": "code",
   "execution_count": 52,
   "metadata": {},
   "outputs": [],
   "source": [
    "student_info = {\n",
    "    \"Agnes\" : 68, \n",
    "    \"Bobby\" : 45, \n",
    "    \"Charlie\" : {\"age\": 33, \"gender\": \"Female\"}\n",
    "}"
   ]
  },
  {
   "cell_type": "code",
   "execution_count": 53,
   "metadata": {},
   "outputs": [
    {
     "data": {
      "text/plain": [
       "{'Agnes': 68, 'Bobby': 45, 'Charlie': {'age': 33, 'gender': 'Female'}}"
      ]
     },
     "execution_count": 53,
     "metadata": {},
     "output_type": "execute_result"
    }
   ],
   "source": [
    "student_info"
   ]
  },
  {
   "cell_type": "code",
   "execution_count": 54,
   "metadata": {},
   "outputs": [
    {
     "data": {
      "text/plain": [
       "33"
      ]
     },
     "execution_count": 54,
     "metadata": {},
     "output_type": "execute_result"
    }
   ],
   "source": [
    "student_info[\"Charlie\"][\"age\"]"
   ]
  },
  {
   "cell_type": "code",
   "execution_count": 55,
   "metadata": {},
   "outputs": [
    {
     "data": {
      "text/plain": [
       "3"
      ]
     },
     "execution_count": 55,
     "metadata": {},
     "output_type": "execute_result"
    }
   ],
   "source": [
    "len(student_info)"
   ]
  },
  {
   "cell_type": "code",
   "execution_count": 56,
   "metadata": {},
   "outputs": [
    {
     "data": {
      "text/plain": [
       "33"
      ]
     },
     "execution_count": 56,
     "metadata": {},
     "output_type": "execute_result"
    }
   ],
   "source": [
    "person.update({\"name\": \"Doug Sloan\", \"favourite fruit\": [\"pineapple\", \"watermelon\"]})\n",
    "person.pop(\"age\")"
   ]
  },
  {
   "cell_type": "code",
   "execution_count": 57,
   "metadata": {},
   "outputs": [
    {
     "data": {
      "text/plain": [
       "{'name': 'Doug Sloan', 'favourite fruit': ['pineapple', 'watermelon']}"
      ]
     },
     "execution_count": 57,
     "metadata": {},
     "output_type": "execute_result"
    }
   ],
   "source": [
    "person"
   ]
  },
  {
   "cell_type": "code",
   "execution_count": 58,
   "metadata": {},
   "outputs": [
    {
     "name": "stdout",
     "output_type": "stream",
     "text": [
      "{'uk': {'capital': 'London', 'population': 1000}, 'germany': {'capital': 'Berlin', 'population': 5}}\n"
     ]
    }
   ],
   "source": [
    "countries = {\n",
    "    \"uk\": {\n",
    "        \"capital\": \"London\", \n",
    "        \"population\": 1000\n",
    "    },\n",
    "    \"germany\": {\n",
    "        \"capital\": \"Berlin\",\n",
    "        \"population\": 5\n",
    "    }\n",
    "}\n",
    "\n",
    "print(countries)"
   ]
  },
  {
   "cell_type": "code",
   "execution_count": 59,
   "metadata": {},
   "outputs": [],
   "source": [
    "german_population = countries[\"germany\"] [\"population\"]"
   ]
  },
  {
   "cell_type": "markdown",
   "metadata": {},
   "source": []
  },
  {
   "cell_type": "markdown",
   "metadata": {},
   "source": [
    "# Control flow and loops"
   ]
  },
  {
   "cell_type": "code",
   "execution_count": null,
   "metadata": {},
   "outputs": [],
   "source": []
  },
  {
   "cell_type": "code",
   "execution_count": 60,
   "metadata": {},
   "outputs": [
    {
     "name": "stdout",
     "output_type": "stream",
     "text": [
      "Heatwave warning!\n"
     ]
    }
   ],
   "source": [
    "temperature = 28\n",
    "if temperature > 20:\n",
    "    print(\"Heatwave warning!\")"
   ]
  },
  {
   "cell_type": "code",
   "execution_count": 61,
   "metadata": {},
   "outputs": [
    {
     "name": "stdout",
     "output_type": "stream",
     "text": [
      "Perfect\n"
     ]
    }
   ],
   "source": [
    "temperature = 16\n",
    "if temperature > 20:\n",
    "    print(\"Heatwave warning!\")\n",
    "elif temperature < 10:\n",
    "    print(\"The usual\")\n",
    "else:\n",
    "    print(\"Perfect\")"
   ]
  },
  {
   "cell_type": "code",
   "execution_count": 62,
   "metadata": {},
   "outputs": [
    {
     "name": "stdout",
     "output_type": "stream",
     "text": [
      "My favourite animal\n"
     ]
    }
   ],
   "source": [
    "animal = \"chicken\"\n",
    "\n",
    "if animal == \"chicken\":\n",
    "    print(\"My favourite animal\")\n",
    "else: \n",
    "    print(\"Sad, not my favourite animal\")"
   ]
  },
  {
   "cell_type": "code",
   "execution_count": 63,
   "metadata": {},
   "outputs": [
    {
     "name": "stdout",
     "output_type": "stream",
     "text": [
      "2\n",
      "4\n",
      "6\n",
      "8\n"
     ]
    }
   ],
   "source": [
    "numbers = [1, 2, 3, 4]\n",
    "\n",
    "for number in numbers:\n",
    "    print(number * 2)"
   ]
  },
  {
   "cell_type": "code",
   "execution_count": 64,
   "metadata": {},
   "outputs": [
    {
     "data": {
      "text/plain": [
       "{'name': 'Doug Sloan', 'favourite fruit': ['pineapple', 'watermelon']}"
      ]
     },
     "execution_count": 64,
     "metadata": {},
     "output_type": "execute_result"
    }
   ],
   "source": [
    "person"
   ]
  },
  {
   "cell_type": "code",
   "execution_count": 65,
   "metadata": {},
   "outputs": [],
   "source": [
    "person.update({\"age\":33})"
   ]
  },
  {
   "cell_type": "code",
   "execution_count": 66,
   "metadata": {},
   "outputs": [
    {
     "data": {
      "text/plain": [
       "{'name': 'Doug Sloan',\n",
       " 'favourite fruit': ['pineapple', 'watermelon'],\n",
       " 'age': 33}"
      ]
     },
     "execution_count": 66,
     "metadata": {},
     "output_type": "execute_result"
    }
   ],
   "source": [
    "person"
   ]
  },
  {
   "cell_type": "code",
   "execution_count": 67,
   "metadata": {},
   "outputs": [
    {
     "name": "stdout",
     "output_type": "stream",
     "text": [
      "Doug Sloan\n",
      "['pineapple', 'watermelon']\n",
      "33\n"
     ]
    }
   ],
   "source": [
    "for value in person.values():\n",
    "    print(value)"
   ]
  },
  {
   "cell_type": "code",
   "execution_count": 68,
   "metadata": {},
   "outputs": [
    {
     "name": "stdout",
     "output_type": "stream",
     "text": [
      "[6, 2, 2, 6]\n"
     ]
    }
   ],
   "source": [
    "numbers = [1, 6, 2, 2, 7, 1, 6 , 13, 99, 7]\n",
    "\n",
    "even_numbers = []\n",
    "for number in numbers:\n",
    "    if number %2 == 0:\n",
    "        even_numbers.append(number)\n",
    "        \n",
    "print(even_numbers)"
   ]
  },
  {
   "cell_type": "code",
   "execution_count": 69,
   "metadata": {},
   "outputs": [],
   "source": [
    "fz_bz_start_numbers = list(range(1, 101))"
   ]
  },
  {
   "cell_type": "code",
   "execution_count": 70,
   "metadata": {},
   "outputs": [
    {
     "name": "stdout",
     "output_type": "stream",
     "text": [
      "1\n",
      "2\n",
      "Fizz\n",
      "4\n",
      "Buzz\n",
      "Fizz\n",
      "7\n",
      "8\n",
      "Fizz\n",
      "Buzz\n",
      "11\n",
      "Fizz\n",
      "13\n",
      "14\n",
      "FizzBuzz\n",
      "16\n",
      "17\n",
      "Fizz\n",
      "19\n",
      "Buzz\n",
      "Fizz\n",
      "22\n",
      "23\n",
      "Fizz\n",
      "Buzz\n",
      "26\n",
      "Fizz\n",
      "28\n",
      "29\n",
      "FizzBuzz\n",
      "31\n",
      "32\n",
      "Fizz\n",
      "34\n",
      "Buzz\n",
      "Fizz\n",
      "37\n",
      "38\n",
      "Fizz\n",
      "Buzz\n",
      "41\n",
      "Fizz\n",
      "43\n",
      "44\n",
      "FizzBuzz\n",
      "46\n",
      "47\n",
      "Fizz\n",
      "49\n",
      "Buzz\n",
      "Fizz\n",
      "52\n",
      "53\n",
      "Fizz\n",
      "Buzz\n",
      "56\n",
      "Fizz\n",
      "58\n",
      "59\n",
      "FizzBuzz\n",
      "61\n",
      "62\n",
      "Fizz\n",
      "64\n",
      "Buzz\n",
      "Fizz\n",
      "67\n",
      "68\n",
      "Fizz\n",
      "Buzz\n",
      "71\n",
      "Fizz\n",
      "73\n",
      "74\n",
      "FizzBuzz\n",
      "76\n",
      "77\n",
      "Fizz\n",
      "79\n",
      "Buzz\n",
      "Fizz\n",
      "82\n",
      "83\n",
      "Fizz\n",
      "Buzz\n",
      "86\n",
      "Fizz\n",
      "88\n",
      "89\n",
      "FizzBuzz\n",
      "91\n",
      "92\n",
      "Fizz\n",
      "94\n",
      "Buzz\n",
      "Fizz\n",
      "97\n",
      "98\n",
      "Fizz\n",
      "Buzz\n"
     ]
    }
   ],
   "source": [
    "fz_bz_numbers = range(1, 101)\n",
    "for number in fz_bz_numbers:\n",
    "    if number %5 == 0 and number%3 == 0:\n",
    "        print(\"FizzBuzz\")\n",
    "    elif number %3 == 0: \n",
    "        print(\"Fizz\")\n",
    "    elif number %5 == 0:\n",
    "        print(\"Buzz\")\n",
    "    else:\n",
    "        print(number)"
   ]
  },
  {
   "cell_type": "code",
   "execution_count": 71,
   "metadata": {},
   "outputs": [],
   "source": [
    "numbers = [1, 2, 3, 4]\n",
    "numbers_squared = []\n",
    "\n",
    "for number in numbers:\n",
    "    numbers_squared.append(number*number)"
   ]
  },
  {
   "cell_type": "code",
   "execution_count": 72,
   "metadata": {},
   "outputs": [
    {
     "data": {
      "text/plain": [
       "[1, 4, 9, 16]"
      ]
     },
     "execution_count": 72,
     "metadata": {},
     "output_type": "execute_result"
    }
   ],
   "source": [
    "numbers_squared"
   ]
  },
  {
   "cell_type": "code",
   "execution_count": 73,
   "metadata": {},
   "outputs": [],
   "source": [
    "numbers_squared = [number * number for number in numbers]"
   ]
  },
  {
   "cell_type": "code",
   "execution_count": 74,
   "metadata": {},
   "outputs": [
    {
     "data": {
      "text/plain": [
       "[1, 4, 9, 16]"
      ]
     },
     "execution_count": 74,
     "metadata": {},
     "output_type": "execute_result"
    }
   ],
   "source": [
    "numbers_squared"
   ]
  },
  {
   "cell_type": "code",
   "execution_count": 75,
   "metadata": {},
   "outputs": [
    {
     "data": {
      "text/plain": [
       "[0, 12, 24, 36, 48, 60, 72, 84, 96]"
      ]
     },
     "execution_count": 75,
     "metadata": {},
     "output_type": "execute_result"
    }
   ],
   "source": [
    "multiples_of_12 = []\n",
    "\n",
    "for number in range(101):\n",
    "    \n",
    "    if number % 12 == 0:\n",
    "        multiples_of_12.append(number)\n",
    "        \n",
    "multiples_of_12"
   ]
  },
  {
   "cell_type": "code",
   "execution_count": 76,
   "metadata": {},
   "outputs": [
    {
     "data": {
      "text/plain": [
       "[0, 12, 24, 36, 48, 60, 72, 84, 96]"
      ]
     },
     "execution_count": 76,
     "metadata": {},
     "output_type": "execute_result"
    }
   ],
   "source": [
    "[number for number in range(101) if number % 12 == 0]"
   ]
  },
  {
   "cell_type": "code",
   "execution_count": 77,
   "metadata": {},
   "outputs": [
    {
     "data": {
      "text/plain": [
       "{'apple': 5, 'orange': 6, 'dragon fruit': 12}"
      ]
     },
     "execution_count": 77,
     "metadata": {},
     "output_type": "execute_result"
    }
   ],
   "source": [
    "words = [\"apple\", \"orange\", \"dragon fruit\"]\n",
    "\n",
    "length_of_words = {word:len(word) for word in words}\n",
    "\n",
    "length_of_words"
   ]
  },
  {
   "cell_type": "code",
   "execution_count": 78,
   "metadata": {},
   "outputs": [],
   "source": [
    "primes = [i for i in range(2, 100) if i % 2 != - 0 and i %3 != 0 and i % 5 != 0 and 7 != 0 and i % 11 != 0]"
   ]
  },
  {
   "cell_type": "code",
   "execution_count": 79,
   "metadata": {},
   "outputs": [
    {
     "data": {
      "text/plain": [
       "[7,\n",
       " 13,\n",
       " 17,\n",
       " 19,\n",
       " 23,\n",
       " 29,\n",
       " 31,\n",
       " 37,\n",
       " 41,\n",
       " 43,\n",
       " 47,\n",
       " 49,\n",
       " 53,\n",
       " 59,\n",
       " 61,\n",
       " 67,\n",
       " 71,\n",
       " 73,\n",
       " 79,\n",
       " 83,\n",
       " 89,\n",
       " 91,\n",
       " 97]"
      ]
     },
     "execution_count": 79,
     "metadata": {},
     "output_type": "execute_result"
    }
   ],
   "source": [
    "primes"
   ]
  },
  {
   "cell_type": "code",
   "execution_count": 80,
   "metadata": {},
   "outputs": [],
   "source": [
    "ordinal_dict = {number: str(number) + \"th\" for number in range(4, 11)}"
   ]
  },
  {
   "cell_type": "code",
   "execution_count": 81,
   "metadata": {},
   "outputs": [
    {
     "data": {
      "text/plain": [
       "{4: '4th', 5: '5th', 6: '6th', 7: '7th', 8: '8th', 9: '9th', 10: '10th'}"
      ]
     },
     "execution_count": 81,
     "metadata": {},
     "output_type": "execute_result"
    }
   ],
   "source": [
    "ordinal_dict"
   ]
  },
  {
   "cell_type": "code",
   "execution_count": 82,
   "metadata": {},
   "outputs": [],
   "source": [
    "def greet():\n",
    "    print(\"Hey!\")"
   ]
  },
  {
   "cell_type": "code",
   "execution_count": 83,
   "metadata": {},
   "outputs": [
    {
     "name": "stdout",
     "output_type": "stream",
     "text": [
      "Hey!\n"
     ]
    }
   ],
   "source": [
    "greet()"
   ]
  },
  {
   "cell_type": "code",
   "execution_count": 84,
   "metadata": {},
   "outputs": [],
   "source": [
    "def greet():\n",
    "    return \"Hey\""
   ]
  },
  {
   "cell_type": "code",
   "execution_count": 85,
   "metadata": {},
   "outputs": [
    {
     "data": {
      "text/plain": [
       "'Hey'"
      ]
     },
     "execution_count": 85,
     "metadata": {},
     "output_type": "execute_result"
    }
   ],
   "source": [
    "greet()"
   ]
  },
  {
   "cell_type": "code",
   "execution_count": 86,
   "metadata": {},
   "outputs": [
    {
     "name": "stdout",
     "output_type": "stream",
     "text": [
      "Hey\n"
     ]
    }
   ],
   "source": [
    "greeting = greet()\n",
    "print(greeting)"
   ]
  },
  {
   "cell_type": "code",
   "execution_count": 87,
   "metadata": {},
   "outputs": [],
   "source": [
    "def greet(name):\n",
    "    return \"Hey \" + name"
   ]
  },
  {
   "cell_type": "code",
   "execution_count": 88,
   "metadata": {},
   "outputs": [
    {
     "name": "stdout",
     "output_type": "stream",
     "text": [
      "Hey Doug\n"
     ]
    }
   ],
   "source": [
    "greeting = greet(\"Doug\")\n",
    "print(greeting)"
   ]
  },
  {
   "cell_type": "code",
   "execution_count": 89,
   "metadata": {},
   "outputs": [],
   "source": [
    "def greet(name, time_of_day):\n",
    "    return \"Good \" + time_of_day + \", \" + name"
   ]
  },
  {
   "cell_type": "code",
   "execution_count": 90,
   "metadata": {},
   "outputs": [
    {
     "name": "stdout",
     "output_type": "stream",
     "text": [
      "Good morning, Doug\n"
     ]
    }
   ],
   "source": [
    "greeting = greet(\"Doug\", \"morning\")\n",
    "print(greeting)"
   ]
  },
  {
   "cell_type": "code",
   "execution_count": 91,
   "metadata": {},
   "outputs": [],
   "source": [
    "def calculate_mean(x, y):\n",
    "    return (x + y)/2"
   ]
  },
  {
   "cell_type": "code",
   "execution_count": 92,
   "metadata": {},
   "outputs": [
    {
     "data": {
      "text/plain": [
       "8.0"
      ]
     },
     "execution_count": 92,
     "metadata": {},
     "output_type": "execute_result"
    }
   ],
   "source": [
    "calculate_mean(7, 9)"
   ]
  },
  {
   "cell_type": "code",
   "execution_count": 93,
   "metadata": {},
   "outputs": [],
   "source": [
    "def is_even(number):\n",
    "    if(number % 2 == 0):\n",
    "        return True\n",
    "    else:\n",
    "        return False\n",
    "    \n",
    "def sum_of_even_numbers(numbers):\n",
    "    running_total = 0\n",
    "    for number in numbers:\n",
    "        if(is_even(number)):\n",
    "            running_total += number\n",
    "    return running_total"
   ]
  },
  {
   "cell_type": "code",
   "execution_count": 94,
   "metadata": {},
   "outputs": [
    {
     "data": {
      "text/plain": [
       "True"
      ]
     },
     "execution_count": 94,
     "metadata": {},
     "output_type": "execute_result"
    }
   ],
   "source": [
    "is_even(6)"
   ]
  },
  {
   "cell_type": "code",
   "execution_count": 95,
   "metadata": {},
   "outputs": [
    {
     "data": {
      "text/plain": [
       "9"
      ]
     },
     "execution_count": 95,
     "metadata": {},
     "output_type": "execute_result"
    }
   ],
   "source": [
    "def square(number):\n",
    "    return number * number\n",
    "\n",
    "def modify_number(number, modifier_function):\n",
    "    return modifier_function(number)\n",
    "\n",
    "modify_number(3, square)"
   ]
  },
  {
   "cell_type": "code",
   "execution_count": 96,
   "metadata": {},
   "outputs": [],
   "source": [
    "def make_price(number):\n",
    "    return \"£\" + str(number)"
   ]
  },
  {
   "cell_type": "code",
   "execution_count": 97,
   "metadata": {},
   "outputs": [
    {
     "data": {
      "text/plain": [
       "'£403'"
      ]
     },
     "execution_count": 97,
     "metadata": {},
     "output_type": "execute_result"
    }
   ],
   "source": [
    "make_price(403)"
   ]
  },
  {
   "cell_type": "markdown",
   "metadata": {},
   "source": [
    "# Libraries"
   ]
  },
  {
   "cell_type": "code",
   "execution_count": 98,
   "metadata": {},
   "outputs": [],
   "source": [
    "import numpy as np"
   ]
  },
  {
   "cell_type": "code",
   "execution_count": 99,
   "metadata": {},
   "outputs": [
    {
     "name": "stdout",
     "output_type": "stream",
     "text": [
      "[1 2 3]\n"
     ]
    }
   ],
   "source": [
    "my_array = np.array([1, 2, 3])\n",
    "\n",
    "print(my_array )"
   ]
  },
  {
   "cell_type": "code",
   "execution_count": 100,
   "metadata": {},
   "outputs": [
    {
     "name": "stdout",
     "output_type": "stream",
     "text": [
      "[[1 2 3]\n",
      " [4 5 6]]\n"
     ]
    }
   ],
   "source": [
    "my_2d_array = np.array([[1, 2, 3], [4, 5, 6]])\n",
    "\n",
    "print(my_2d_array)"
   ]
  },
  {
   "cell_type": "code",
   "execution_count": 101,
   "metadata": {},
   "outputs": [
    {
     "data": {
      "text/plain": [
       "1"
      ]
     },
     "execution_count": 101,
     "metadata": {},
     "output_type": "execute_result"
    }
   ],
   "source": [
    "my_array[0]"
   ]
  },
  {
   "cell_type": "code",
   "execution_count": 102,
   "metadata": {},
   "outputs": [
    {
     "data": {
      "text/plain": [
       "1"
      ]
     },
     "execution_count": 102,
     "metadata": {},
     "output_type": "execute_result"
    }
   ],
   "source": [
    "my_2d_array[0, 0]"
   ]
  },
  {
   "cell_type": "code",
   "execution_count": 103,
   "metadata": {},
   "outputs": [],
   "source": [
    "import pandas as pd"
   ]
  },
  {
   "cell_type": "code",
   "execution_count": 104,
   "metadata": {},
   "outputs": [
    {
     "data": {
      "text/plain": [
       "{'name': ['Barthez',\n",
       "  'Thuram',\n",
       "  'Leboeuf',\n",
       "  'Desailly',\n",
       "  'Lizarazu',\n",
       "  'Deschamps',\n",
       "  'Karembeu',\n",
       "  'Petit',\n",
       "  'Zidane',\n",
       "  'Djorkaeff',\n",
       "  \"Guivarc'h\"],\n",
       " 'number': [16, 15, 18, 8, 3, 7, 19, 17, 10, 6, 9]}"
      ]
     },
     "execution_count": 104,
     "metadata": {},
     "output_type": "execute_result"
    }
   ],
   "source": [
    "france_98_final = {\n",
    "    \"name\": [\"Barthez\", \"Thuram\", \"Leboeuf\", \"Desailly\", \"Lizarazu\", \"Deschamps\", \"Karembeu\", \"Petit\", \"Zidane\", \"Djorkaeff\", \"Guivarc'h\"],\n",
    "    \"number\": [16, 15, 18, 8, 3, 7, 19, 17, 10, 6, 9]\n",
    "}\n",
    "\n",
    "france_98_final"
   ]
  },
  {
   "cell_type": "code",
   "execution_count": 105,
   "metadata": {},
   "outputs": [
    {
     "data": {
      "text/plain": [
       "dict"
      ]
     },
     "execution_count": 105,
     "metadata": {},
     "output_type": "execute_result"
    }
   ],
   "source": [
    "type(france_98_final)"
   ]
  },
  {
   "cell_type": "code",
   "execution_count": 106,
   "metadata": {},
   "outputs": [
    {
     "data": {
      "text/html": [
       "<div>\n",
       "<style scoped>\n",
       "    .dataframe tbody tr th:only-of-type {\n",
       "        vertical-align: middle;\n",
       "    }\n",
       "\n",
       "    .dataframe tbody tr th {\n",
       "        vertical-align: top;\n",
       "    }\n",
       "\n",
       "    .dataframe thead th {\n",
       "        text-align: right;\n",
       "    }\n",
       "</style>\n",
       "<table border=\"1\" class=\"dataframe\">\n",
       "  <thead>\n",
       "    <tr style=\"text-align: right;\">\n",
       "      <th></th>\n",
       "      <th>name</th>\n",
       "      <th>number</th>\n",
       "    </tr>\n",
       "  </thead>\n",
       "  <tbody>\n",
       "    <tr>\n",
       "      <th>0</th>\n",
       "      <td>Barthez</td>\n",
       "      <td>16</td>\n",
       "    </tr>\n",
       "    <tr>\n",
       "      <th>1</th>\n",
       "      <td>Thuram</td>\n",
       "      <td>15</td>\n",
       "    </tr>\n",
       "    <tr>\n",
       "      <th>2</th>\n",
       "      <td>Leboeuf</td>\n",
       "      <td>18</td>\n",
       "    </tr>\n",
       "    <tr>\n",
       "      <th>3</th>\n",
       "      <td>Desailly</td>\n",
       "      <td>8</td>\n",
       "    </tr>\n",
       "    <tr>\n",
       "      <th>4</th>\n",
       "      <td>Lizarazu</td>\n",
       "      <td>3</td>\n",
       "    </tr>\n",
       "    <tr>\n",
       "      <th>5</th>\n",
       "      <td>Deschamps</td>\n",
       "      <td>7</td>\n",
       "    </tr>\n",
       "    <tr>\n",
       "      <th>6</th>\n",
       "      <td>Karembeu</td>\n",
       "      <td>19</td>\n",
       "    </tr>\n",
       "    <tr>\n",
       "      <th>7</th>\n",
       "      <td>Petit</td>\n",
       "      <td>17</td>\n",
       "    </tr>\n",
       "    <tr>\n",
       "      <th>8</th>\n",
       "      <td>Zidane</td>\n",
       "      <td>10</td>\n",
       "    </tr>\n",
       "    <tr>\n",
       "      <th>9</th>\n",
       "      <td>Djorkaeff</td>\n",
       "      <td>6</td>\n",
       "    </tr>\n",
       "    <tr>\n",
       "      <th>10</th>\n",
       "      <td>Guivarc'h</td>\n",
       "      <td>9</td>\n",
       "    </tr>\n",
       "  </tbody>\n",
       "</table>\n",
       "</div>"
      ],
      "text/plain": [
       "         name  number\n",
       "0     Barthez      16\n",
       "1      Thuram      15\n",
       "2     Leboeuf      18\n",
       "3    Desailly       8\n",
       "4    Lizarazu       3\n",
       "5   Deschamps       7\n",
       "6    Karembeu      19\n",
       "7       Petit      17\n",
       "8      Zidane      10\n",
       "9   Djorkaeff       6\n",
       "10  Guivarc'h       9"
      ]
     },
     "execution_count": 106,
     "metadata": {},
     "output_type": "execute_result"
    }
   ],
   "source": [
    "france_98_final_dataframe = pd.DataFrame(france_98_final)\n",
    "\n",
    "france_98_final_dataframe"
   ]
  },
  {
   "cell_type": "code",
   "execution_count": null,
   "metadata": {},
   "outputs": [],
   "source": []
  },
  {
   "cell_type": "code",
   "execution_count": 107,
   "metadata": {},
   "outputs": [],
   "source": [
    "pd.DataFrame?"
   ]
  },
  {
   "cell_type": "code",
   "execution_count": 108,
   "metadata": {},
   "outputs": [],
   "source": [
    "f98_new_index = range(1, 12)"
   ]
  },
  {
   "cell_type": "code",
   "execution_count": 109,
   "metadata": {},
   "outputs": [
    {
     "data": {
      "text/html": [
       "<div>\n",
       "<style scoped>\n",
       "    .dataframe tbody tr th:only-of-type {\n",
       "        vertical-align: middle;\n",
       "    }\n",
       "\n",
       "    .dataframe tbody tr th {\n",
       "        vertical-align: top;\n",
       "    }\n",
       "\n",
       "    .dataframe thead th {\n",
       "        text-align: right;\n",
       "    }\n",
       "</style>\n",
       "<table border=\"1\" class=\"dataframe\">\n",
       "  <thead>\n",
       "    <tr style=\"text-align: right;\">\n",
       "      <th></th>\n",
       "      <th>name</th>\n",
       "      <th>number</th>\n",
       "    </tr>\n",
       "  </thead>\n",
       "  <tbody>\n",
       "    <tr>\n",
       "      <th>1</th>\n",
       "      <td>Thuram</td>\n",
       "      <td>15.0</td>\n",
       "    </tr>\n",
       "    <tr>\n",
       "      <th>2</th>\n",
       "      <td>Leboeuf</td>\n",
       "      <td>18.0</td>\n",
       "    </tr>\n",
       "    <tr>\n",
       "      <th>3</th>\n",
       "      <td>Desailly</td>\n",
       "      <td>8.0</td>\n",
       "    </tr>\n",
       "    <tr>\n",
       "      <th>4</th>\n",
       "      <td>Lizarazu</td>\n",
       "      <td>3.0</td>\n",
       "    </tr>\n",
       "    <tr>\n",
       "      <th>5</th>\n",
       "      <td>Deschamps</td>\n",
       "      <td>7.0</td>\n",
       "    </tr>\n",
       "    <tr>\n",
       "      <th>6</th>\n",
       "      <td>Karembeu</td>\n",
       "      <td>19.0</td>\n",
       "    </tr>\n",
       "    <tr>\n",
       "      <th>7</th>\n",
       "      <td>Petit</td>\n",
       "      <td>17.0</td>\n",
       "    </tr>\n",
       "    <tr>\n",
       "      <th>8</th>\n",
       "      <td>Zidane</td>\n",
       "      <td>10.0</td>\n",
       "    </tr>\n",
       "    <tr>\n",
       "      <th>9</th>\n",
       "      <td>Djorkaeff</td>\n",
       "      <td>6.0</td>\n",
       "    </tr>\n",
       "    <tr>\n",
       "      <th>10</th>\n",
       "      <td>Guivarc'h</td>\n",
       "      <td>9.0</td>\n",
       "    </tr>\n",
       "    <tr>\n",
       "      <th>11</th>\n",
       "      <td>NaN</td>\n",
       "      <td>NaN</td>\n",
       "    </tr>\n",
       "  </tbody>\n",
       "</table>\n",
       "</div>"
      ],
      "text/plain": [
       "         name  number\n",
       "1      Thuram    15.0\n",
       "2     Leboeuf    18.0\n",
       "3    Desailly     8.0\n",
       "4    Lizarazu     3.0\n",
       "5   Deschamps     7.0\n",
       "6    Karembeu    19.0\n",
       "7       Petit    17.0\n",
       "8      Zidane    10.0\n",
       "9   Djorkaeff     6.0\n",
       "10  Guivarc'h     9.0\n",
       "11        NaN     NaN"
      ]
     },
     "execution_count": 109,
     "metadata": {},
     "output_type": "execute_result"
    }
   ],
   "source": [
    "france_98_final_dataframe.reindex(f98_new_index)"
   ]
  },
  {
   "cell_type": "markdown",
   "metadata": {},
   "source": [
    "# Reading and writing data."
   ]
  },
  {
   "cell_type": "markdown",
   "metadata": {},
   "source": [
    "The below doesn't seem to work so I'll just leave it in and skip over to the Pandas tutorial."
   ]
  },
  {
   "cell_type": "markdown",
   "metadata": {},
   "source": [
    "with open (\"surnames.txt\", \"r\") as file:\n",
    "    names = file.read()\n",
    "    \n",
    "names"
   ]
  },
  {
   "cell_type": "markdown",
   "metadata": {},
   "source": [
    "# Object-Oriented Programming intro"
   ]
  },
  {
   "cell_type": "code",
   "execution_count": 110,
   "metadata": {},
   "outputs": [
    {
     "name": "stdout",
     "output_type": "stream",
     "text": [
      "Fido barks!\n",
      "Fido chases the ball!\n",
      "Fido eats dog business!\n",
      "Fido is 4 years old and has a brown coat.\n"
     ]
    }
   ],
   "source": [
    "class Dog: \n",
    "    \n",
    "    def __init__(self, name, age, coat):\n",
    "        self.name = name\n",
    "        self.age = age\n",
    "        self.coat = coat\n",
    "        \n",
    "    def bark(self):\n",
    "        print(self.name + \" barks!\")\n",
    "        \n",
    "    def chase_ball(self):\n",
    "        if self.age < 10:\n",
    "            print(self.name + \" chases the ball!\")\n",
    "        else:\n",
    "            print(self.name + \" sits and stares at you accusingly...\")\n",
    "            \n",
    "    def eat(self, food):\n",
    "        print(self.name + \" eats \" + food + \"!\")\n",
    "        \n",
    "    def describe(self):\n",
    "        phrase = self.name + \" is \" + str(self.age) + \" years old and has a \" + self.coat + \" coat.\"\n",
    "        print(phrase)\n",
    "        \n",
    "fido = Dog(\"Fido\", 4, \"brown\")\n",
    "fido.bark()\n",
    "fido.chase_ball()\n",
    "fido.eat(\"dog business\")\n",
    "fido.describe()"
   ]
  },
  {
   "cell_type": "code",
   "execution_count": 111,
   "metadata": {},
   "outputs": [
    {
     "name": "stdout",
     "output_type": "stream",
     "text": [
      "Rex barks!\n",
      "Rex sits and stares at you accusingly...\n",
      "Rex eats cheese!\n",
      "Rex is 23 years old and has a white coat.\n"
     ]
    }
   ],
   "source": [
    "rex = Dog(\"Rex\", 23, \"white\")\n",
    "\n",
    "rex.bark()\n",
    "rex.chase_ball()\n",
    "rex.eat(\"cheese\")\n",
    "rex.describe()"
   ]
  },
  {
   "cell_type": "code",
   "execution_count": 112,
   "metadata": {},
   "outputs": [],
   "source": [
    "import numpy as np\n",
    "\n",
    "class DataHolder:\n",
    "    \n",
    "    def __init__(self, data):\n",
    "        self.data = np.array(data)\n",
    "        self.norm = np.sqrt(np.sum(self.data ** 2))\n",
    "                            \n",
    "    def get_normalized(self):\n",
    "        return list(self.data / self.norm)"
   ]
  },
  {
   "cell_type": "code",
   "execution_count": 113,
   "metadata": {},
   "outputs": [
    {
     "data": {
      "text/plain": [
       "array([3, 4, 5])"
      ]
     },
     "execution_count": 113,
     "metadata": {},
     "output_type": "execute_result"
    }
   ],
   "source": [
    "data_holder = DataHolder([3, 4, 5])\n",
    "data_holder.data"
   ]
  },
  {
   "cell_type": "code",
   "execution_count": 114,
   "metadata": {},
   "outputs": [
    {
     "data": {
      "text/plain": [
       "0.9999999999999999"
      ]
     },
     "execution_count": 114,
     "metadata": {},
     "output_type": "execute_result"
    }
   ],
   "source": [
    "result = data_holder.get_normalized()\n",
    "result\n",
    "result[0]**2 + result[1]**2 + result[2]**2"
   ]
  },
  {
   "cell_type": "markdown",
   "metadata": {},
   "source": [
    "# Python Puzzles"
   ]
  },
  {
   "cell_type": "markdown",
   "metadata": {},
   "source": [
    "Given a list of the years in which people were born, write a list comprehension to determine their age based on the current year. Ignore dates and months when calculating this.\n",
    "\n",
    "years_of_birth = [1990, 1991, 1990, 1990, 1992, 1991, 1976, 1984, 1940]"
   ]
  },
  {
   "cell_type": "code",
   "execution_count": 115,
   "metadata": {},
   "outputs": [],
   "source": [
    "years_of_birth = [1990, 1991, 1990, 1990, 1992, 1991, 1976, 1984, 1940]"
   ]
  },
  {
   "cell_type": "code",
   "execution_count": 116,
   "metadata": {},
   "outputs": [],
   "source": [
    "import datetime as dt"
   ]
  },
  {
   "cell_type": "code",
   "execution_count": 117,
   "metadata": {},
   "outputs": [
    {
     "name": "stdout",
     "output_type": "stream",
     "text": [
      "2021\n"
     ]
    }
   ],
   "source": [
    "this_year = dt.datetime.now()\n",
    "print(this_year.year)"
   ]
  },
  {
   "cell_type": "code",
   "execution_count": 118,
   "metadata": {},
   "outputs": [],
   "source": [
    "ages = [this_year.year - yob for yob in years_of_birth]"
   ]
  },
  {
   "cell_type": "code",
   "execution_count": 119,
   "metadata": {},
   "outputs": [
    {
     "data": {
      "text/plain": [
       "[31, 30, 31, 31, 29, 30, 45, 37, 81]"
      ]
     },
     "execution_count": 119,
     "metadata": {},
     "output_type": "execute_result"
    }
   ],
   "source": [
    "ages"
   ]
  },
  {
   "cell_type": "markdown",
   "metadata": {},
   "source": [
    "Write a function is_palindrome(input_string) to determine whether an input string is a palindrome (i.e. reads the same backwards as forwards, e.g. 'madam'). The function should return True if the string is a palindrome and False otherwise. As an extension, amend your code so that it strips out spaces from the string. "
   ]
  },
  {
   "cell_type": "code",
   "execution_count": 120,
   "metadata": {},
   "outputs": [],
   "source": [
    "def is_palindrome(input_string):\n",
    "    if(input_string == input_string[::-1]):\n",
    "        return True\n",
    "    else:\n",
    "        return False"
   ]
  },
  {
   "cell_type": "code",
   "execution_count": 121,
   "metadata": {},
   "outputs": [
    {
     "data": {
      "text/plain": [
       "False"
      ]
     },
     "execution_count": 121,
     "metadata": {},
     "output_type": "execute_result"
    }
   ],
   "source": [
    "is_palindrome(\"hello\")"
   ]
  },
  {
   "cell_type": "code",
   "execution_count": 122,
   "metadata": {},
   "outputs": [
    {
     "data": {
      "text/plain": [
       "True"
      ]
     },
     "execution_count": 122,
     "metadata": {},
     "output_type": "execute_result"
    }
   ],
   "source": [
    "is_palindrome(\"helleh\")"
   ]
  },
  {
   "cell_type": "markdown",
   "metadata": {},
   "source": [
    "If we list all the natural numbers below 10 that are multiples of 3 or 5, we get 3, 5, 6 and 9. The sum of these multiples is 23.\n",
    "\n",
    "Find the sum of all the multiples of 3 or 5 below 1000."
   ]
  },
  {
   "cell_type": "code",
   "execution_count": 123,
   "metadata": {},
   "outputs": [
    {
     "data": {
      "text/plain": [
       "233168"
      ]
     },
     "execution_count": 123,
     "metadata": {},
     "output_type": "execute_result"
    }
   ],
   "source": [
    "multiples_of_3_or_5 = []\n",
    "\n",
    "for number in range(1, 1000):\n",
    "    if number %3 == 0 or number %5 == 0:\n",
    "        multiples_of_3_or_5.append(number)\n",
    "        \n",
    "multiples_of_3_or_5\n",
    "\n",
    "sum(multiples_of_3_or_5)"
   ]
  },
  {
   "cell_type": "markdown",
   "metadata": {},
   "source": [
    "Write a function remove_duplicates(input_list) that takes in an input list of words and removes any duplicates it finds, returning the list without duplicates."
   ]
  },
  {
   "cell_type": "code",
   "execution_count": 124,
   "metadata": {},
   "outputs": [],
   "source": [
    "def remove_duplicates(input_list):\n",
    "    output_list = []\n",
    "    for word in input_list:\n",
    "        if word not in output_list:\n",
    "            output_list.append(word)\n",
    "    return output_list\n",
    "    "
   ]
  },
  {
   "cell_type": "code",
   "execution_count": 125,
   "metadata": {},
   "outputs": [
    {
     "data": {
      "text/plain": [
       "['I',\n",
       " 'am',\n",
       " 'counting',\n",
       " 'my',\n",
       " 'calories',\n",
       " 'yet',\n",
       " 'really',\n",
       " 'want',\n",
       " 'dessert',\n",
       " 'still',\n",
       " 'hungry']"
      ]
     },
     "execution_count": 125,
     "metadata": {},
     "output_type": "execute_result"
    }
   ],
   "source": [
    "first_word_list = [\"I\", \"am\", \"counting\", \"my\", \"calories\", \"yet\", \"I\", \"really\", \"want\", \"dessert\", \"I\", \"am\", \"still\", \"hungry\"]\n",
    "\n",
    "remove_duplicates(first_word_list)\n"
   ]
  },
  {
   "cell_type": "markdown",
   "metadata": {},
   "source": [
    "Write a function list_overlap(list_1, list_2) that returns the overlap between two input lists list_1 and list_2 of numbers (i.e. the elements present in both lists). The input lists need not be the same size. For example, for the following inputs:"
   ]
  },
  {
   "cell_type": "code",
   "execution_count": 126,
   "metadata": {},
   "outputs": [],
   "source": [
    "def list_overlap(list_1, list_2):\n",
    "    both_lists = []\n",
    "    for word in list_1:\n",
    "        if word in list_2 and word not in both_lists:\n",
    "            both_lists.append(word)\n",
    "    return both_lists"
   ]
  },
  {
   "cell_type": "code",
   "execution_count": 127,
   "metadata": {},
   "outputs": [],
   "source": [
    "list_1 = [1, 4, 5, 6, 6, 5, 10, 11, 12]\n",
    "\n",
    "list_2 = [3, 2, 6, 10]"
   ]
  },
  {
   "cell_type": "code",
   "execution_count": 128,
   "metadata": {},
   "outputs": [
    {
     "data": {
      "text/plain": [
       "[6, 10]"
      ]
     },
     "execution_count": 128,
     "metadata": {},
     "output_type": "execute_result"
    }
   ],
   "source": [
    "list_overlap(list_1, list_2)"
   ]
  },
  {
   "cell_type": "markdown",
   "metadata": {},
   "source": [
    "Each new term in a Fibonacci sequence is generated by adding the previous two terms. So starting with 1 and 2, the first 10 terms will be:\n",
    "\n",
    "1, 2, 3, 5, 8, 13, 21, 34, 55, 89, ...\n",
    "\n",
    "By considering the terms in this Fibonacci sequence whose values do not exceed four million, find the sum of the even-valued terms."
   ]
  },
  {
   "cell_type": "code",
   "execution_count": 130,
   "metadata": {},
   "outputs": [],
   "source": [
    "first = 1\n",
    "second = 2\n",
    "\n",
    "fib_sum = 2\n",
    "\n",
    "while second <= 4000000:\n",
    "    \n",
    "    second = first + second\n",
    "    first = second - first\n",
    "    \n",
    "    if second % 2 == 0:\n",
    "        fib_sum += second\n"
   ]
  },
  {
   "cell_type": "code",
   "execution_count": 131,
   "metadata": {},
   "outputs": [
    {
     "data": {
      "text/plain": [
       "4613732"
      ]
     },
     "execution_count": 131,
     "metadata": {},
     "output_type": "execute_result"
    }
   ],
   "source": [
    "fib_sum"
   ]
  },
  {
   "cell_type": "markdown",
   "metadata": {},
   "source": [
    "Write a function that accepts a list of strings and returns a dictionary where the keys are the words from the list and the values are the number of times that word appears in the list."
   ]
  },
  {
   "cell_type": "code",
   "execution_count": null,
   "metadata": {},
   "outputs": [],
   "source": []
  },
  {
   "cell_type": "markdown",
   "metadata": {},
   "source": [
    "You are repeatedly sent a message, but there are errors in the message each time it is sent. Write code to determine which character occurs most frequently at each position. For example, suppose you had recorded the following messages:\n",
    "\n",
    "eedadn drvtee eandsr raavrd atevrs tsrnev sdttsa rasrtv nssdts ntnada svetve tesnvt vntsnd vrdear dvrsen enarar\n",
    "\n",
    "The most common character in the first column is 'e'; in the second, 'a'; in the third, 's'; and so on. Combining these characters returns the error-corrected message 'easter'.\n",
    "\n",
    "Open the file puzzle3input.txt and find the error corrected message.\n"
   ]
  },
  {
   "cell_type": "code",
   "execution_count": null,
   "metadata": {},
   "outputs": [],
   "source": []
  },
  {
   "cell_type": "markdown",
   "metadata": {},
   "source": [
    "# APIs in Python"
   ]
  },
  {
   "cell_type": "code",
   "execution_count": 1,
   "metadata": {},
   "outputs": [],
   "source": [
    "import requests"
   ]
  },
  {
   "cell_type": "code",
   "execution_count": 2,
   "metadata": {},
   "outputs": [],
   "source": [
    "response = requests.get(\"https://swapi.dev/api/people/1/\")"
   ]
  },
  {
   "cell_type": "code",
   "execution_count": 3,
   "metadata": {},
   "outputs": [
    {
     "data": {
      "text/plain": [
       "200"
      ]
     },
     "execution_count": 3,
     "metadata": {},
     "output_type": "execute_result"
    }
   ],
   "source": [
    "response.status_code"
   ]
  },
  {
   "cell_type": "code",
   "execution_count": 5,
   "metadata": {},
   "outputs": [
    {
     "data": {
      "text/plain": [
       "{'name': 'Luke Skywalker',\n",
       " 'height': '172',\n",
       " 'mass': '77',\n",
       " 'hair_color': 'blond',\n",
       " 'skin_color': 'fair',\n",
       " 'eye_color': 'blue',\n",
       " 'birth_year': '19BBY',\n",
       " 'gender': 'male',\n",
       " 'homeworld': 'http://swapi.dev/api/planets/1/',\n",
       " 'films': ['http://swapi.dev/api/films/1/',\n",
       "  'http://swapi.dev/api/films/2/',\n",
       "  'http://swapi.dev/api/films/3/',\n",
       "  'http://swapi.dev/api/films/6/'],\n",
       " 'species': [],\n",
       " 'vehicles': ['http://swapi.dev/api/vehicles/14/',\n",
       "  'http://swapi.dev/api/vehicles/30/'],\n",
       " 'starships': ['http://swapi.dev/api/starships/12/',\n",
       "  'http://swapi.dev/api/starships/22/'],\n",
       " 'created': '2014-12-09T13:50:51.644000Z',\n",
       " 'edited': '2014-12-20T21:17:56.891000Z',\n",
       " 'url': 'http://swapi.dev/api/people/1/'}"
      ]
     },
     "execution_count": 5,
     "metadata": {},
     "output_type": "execute_result"
    }
   ],
   "source": [
    "response.json()"
   ]
  },
  {
   "cell_type": "code",
   "execution_count": 7,
   "metadata": {},
   "outputs": [
    {
     "data": {
      "text/plain": [
       "'{\"name\":\"Luke Skywalker\",\"height\":\"172\",\"mass\":\"77\",\"hair_color\":\"blond\",\"skin_color\":\"fair\",\"eye_color\":\"blue\",\"birth_year\":\"19BBY\",\"gender\":\"male\",\"homeworld\":\"http://swapi.dev/api/planets/1/\",\"films\":[\"http://swapi.dev/api/films/1/\",\"http://swapi.dev/api/films/2/\",\"http://swapi.dev/api/films/3/\",\"http://swapi.dev/api/films/6/\"],\"species\":[],\"vehicles\":[\"http://swapi.dev/api/vehicles/14/\",\"http://swapi.dev/api/vehicles/30/\"],\"starships\":[\"http://swapi.dev/api/starships/12/\",\"http://swapi.dev/api/starships/22/\"],\"created\":\"2014-12-09T13:50:51.644000Z\",\"edited\":\"2014-12-20T21:17:56.891000Z\",\"url\":\"http://swapi.dev/api/people/1/\"}'"
      ]
     },
     "execution_count": 7,
     "metadata": {},
     "output_type": "execute_result"
    }
   ],
   "source": [
    "response.text"
   ]
  },
  {
   "cell_type": "code",
   "execution_count": 8,
   "metadata": {},
   "outputs": [
    {
     "data": {
      "text/plain": [
       "200"
      ]
     },
     "execution_count": 8,
     "metadata": {},
     "output_type": "execute_result"
    }
   ],
   "source": [
    "response = requests.get(\"https://swapi.dev/api/films/1\")\n",
    "response.status_code"
   ]
  },
  {
   "cell_type": "code",
   "execution_count": 10,
   "metadata": {},
   "outputs": [
    {
     "data": {
      "text/plain": [
       "{'title': 'A New Hope',\n",
       " 'episode_id': 4,\n",
       " 'opening_crawl': \"It is a period of civil war.\\r\\nRebel spaceships, striking\\r\\nfrom a hidden base, have won\\r\\ntheir first victory against\\r\\nthe evil Galactic Empire.\\r\\n\\r\\nDuring the battle, Rebel\\r\\nspies managed to steal secret\\r\\nplans to the Empire's\\r\\nultimate weapon, the DEATH\\r\\nSTAR, an armored space\\r\\nstation with enough power\\r\\nto destroy an entire planet.\\r\\n\\r\\nPursued by the Empire's\\r\\nsinister agents, Princess\\r\\nLeia races home aboard her\\r\\nstarship, custodian of the\\r\\nstolen plans that can save her\\r\\npeople and restore\\r\\nfreedom to the galaxy....\",\n",
       " 'director': 'George Lucas',\n",
       " 'producer': 'Gary Kurtz, Rick McCallum',\n",
       " 'release_date': '1977-05-25',\n",
       " 'characters': ['http://swapi.dev/api/people/1/',\n",
       "  'http://swapi.dev/api/people/2/',\n",
       "  'http://swapi.dev/api/people/3/',\n",
       "  'http://swapi.dev/api/people/4/',\n",
       "  'http://swapi.dev/api/people/5/',\n",
       "  'http://swapi.dev/api/people/6/',\n",
       "  'http://swapi.dev/api/people/7/',\n",
       "  'http://swapi.dev/api/people/8/',\n",
       "  'http://swapi.dev/api/people/9/',\n",
       "  'http://swapi.dev/api/people/10/',\n",
       "  'http://swapi.dev/api/people/12/',\n",
       "  'http://swapi.dev/api/people/13/',\n",
       "  'http://swapi.dev/api/people/14/',\n",
       "  'http://swapi.dev/api/people/15/',\n",
       "  'http://swapi.dev/api/people/16/',\n",
       "  'http://swapi.dev/api/people/18/',\n",
       "  'http://swapi.dev/api/people/19/',\n",
       "  'http://swapi.dev/api/people/81/'],\n",
       " 'planets': ['http://swapi.dev/api/planets/1/',\n",
       "  'http://swapi.dev/api/planets/2/',\n",
       "  'http://swapi.dev/api/planets/3/'],\n",
       " 'starships': ['http://swapi.dev/api/starships/2/',\n",
       "  'http://swapi.dev/api/starships/3/',\n",
       "  'http://swapi.dev/api/starships/5/',\n",
       "  'http://swapi.dev/api/starships/9/',\n",
       "  'http://swapi.dev/api/starships/10/',\n",
       "  'http://swapi.dev/api/starships/11/',\n",
       "  'http://swapi.dev/api/starships/12/',\n",
       "  'http://swapi.dev/api/starships/13/'],\n",
       " 'vehicles': ['http://swapi.dev/api/vehicles/4/',\n",
       "  'http://swapi.dev/api/vehicles/6/',\n",
       "  'http://swapi.dev/api/vehicles/7/',\n",
       "  'http://swapi.dev/api/vehicles/8/'],\n",
       " 'species': ['http://swapi.dev/api/species/1/',\n",
       "  'http://swapi.dev/api/species/2/',\n",
       "  'http://swapi.dev/api/species/3/',\n",
       "  'http://swapi.dev/api/species/4/',\n",
       "  'http://swapi.dev/api/species/5/'],\n",
       " 'created': '2014-12-10T14:23:31.880000Z',\n",
       " 'edited': '2014-12-20T19:49:45.256000Z',\n",
       " 'url': 'http://swapi.dev/api/films/1/'}"
      ]
     },
     "execution_count": 10,
     "metadata": {},
     "output_type": "execute_result"
    }
   ],
   "source": [
    "response.json()"
   ]
  },
  {
   "cell_type": "code",
   "execution_count": 13,
   "metadata": {},
   "outputs": [
    {
     "data": {
      "text/plain": [
       "200"
      ]
     },
     "execution_count": 13,
     "metadata": {},
     "output_type": "execute_result"
    }
   ],
   "source": [
    "response = requests.get(\"https://swapi.dev/api/people/\",\n",
    "    params = {\"search\": \"luke\", \"format\": \"wookiee\"}\n",
    "    )\n",
    "\n",
    "response.status_code"
   ]
  },
  {
   "cell_type": "markdown",
   "metadata": {},
   "source": [
    "# GOT API"
   ]
  },
  {
   "cell_type": "code",
   "execution_count": 14,
   "metadata": {},
   "outputs": [
    {
     "data": {
      "text/plain": [
       "{'url': 'https://www.anapioficeandfire.com/api/books/3',\n",
       " 'name': 'A Storm of Swords',\n",
       " 'isbn': '978-0553106633',\n",
       " 'authors': ['George R. R. Martin'],\n",
       " 'numberOfPages': 992,\n",
       " 'publisher': 'Bantam Books',\n",
       " 'country': 'United States',\n",
       " 'mediaType': 'Hardcover',\n",
       " 'released': '2000-10-31T00:00:00',\n",
       " 'characters': ['https://www.anapioficeandfire.com/api/characters/2',\n",
       "  'https://www.anapioficeandfire.com/api/characters/3',\n",
       "  'https://www.anapioficeandfire.com/api/characters/7',\n",
       "  'https://www.anapioficeandfire.com/api/characters/12',\n",
       "  'https://www.anapioficeandfire.com/api/characters/13',\n",
       "  'https://www.anapioficeandfire.com/api/characters/16',\n",
       "  'https://www.anapioficeandfire.com/api/characters/20',\n",
       "  'https://www.anapioficeandfire.com/api/characters/21',\n",
       "  'https://www.anapioficeandfire.com/api/characters/27',\n",
       "  'https://www.anapioficeandfire.com/api/characters/31',\n",
       "  'https://www.anapioficeandfire.com/api/characters/35',\n",
       "  'https://www.anapioficeandfire.com/api/characters/36',\n",
       "  'https://www.anapioficeandfire.com/api/characters/37',\n",
       "  'https://www.anapioficeandfire.com/api/characters/38',\n",
       "  'https://www.anapioficeandfire.com/api/characters/39',\n",
       "  'https://www.anapioficeandfire.com/api/characters/40',\n",
       "  'https://www.anapioficeandfire.com/api/characters/41',\n",
       "  'https://www.anapioficeandfire.com/api/characters/42',\n",
       "  'https://www.anapioficeandfire.com/api/characters/46',\n",
       "  'https://www.anapioficeandfire.com/api/characters/50',\n",
       "  'https://www.anapioficeandfire.com/api/characters/51',\n",
       "  'https://www.anapioficeandfire.com/api/characters/52',\n",
       "  'https://www.anapioficeandfire.com/api/characters/53',\n",
       "  'https://www.anapioficeandfire.com/api/characters/54',\n",
       "  'https://www.anapioficeandfire.com/api/characters/56',\n",
       "  'https://www.anapioficeandfire.com/api/characters/58',\n",
       "  'https://www.anapioficeandfire.com/api/characters/60',\n",
       "  'https://www.anapioficeandfire.com/api/characters/62',\n",
       "  'https://www.anapioficeandfire.com/api/characters/64',\n",
       "  'https://www.anapioficeandfire.com/api/characters/67',\n",
       "  'https://www.anapioficeandfire.com/api/characters/68',\n",
       "  'https://www.anapioficeandfire.com/api/characters/69',\n",
       "  'https://www.anapioficeandfire.com/api/characters/70',\n",
       "  'https://www.anapioficeandfire.com/api/characters/71',\n",
       "  'https://www.anapioficeandfire.com/api/characters/72',\n",
       "  'https://www.anapioficeandfire.com/api/characters/73',\n",
       "  'https://www.anapioficeandfire.com/api/characters/77',\n",
       "  'https://www.anapioficeandfire.com/api/characters/78',\n",
       "  'https://www.anapioficeandfire.com/api/characters/79',\n",
       "  'https://www.anapioficeandfire.com/api/characters/80',\n",
       "  'https://www.anapioficeandfire.com/api/characters/81',\n",
       "  'https://www.anapioficeandfire.com/api/characters/82',\n",
       "  'https://www.anapioficeandfire.com/api/characters/84',\n",
       "  'https://www.anapioficeandfire.com/api/characters/85',\n",
       "  'https://www.anapioficeandfire.com/api/characters/86',\n",
       "  'https://www.anapioficeandfire.com/api/characters/87',\n",
       "  'https://www.anapioficeandfire.com/api/characters/89',\n",
       "  'https://www.anapioficeandfire.com/api/characters/94',\n",
       "  'https://www.anapioficeandfire.com/api/characters/95',\n",
       "  'https://www.anapioficeandfire.com/api/characters/96',\n",
       "  'https://www.anapioficeandfire.com/api/characters/100',\n",
       "  'https://www.anapioficeandfire.com/api/characters/105',\n",
       "  'https://www.anapioficeandfire.com/api/characters/108',\n",
       "  'https://www.anapioficeandfire.com/api/characters/111',\n",
       "  'https://www.anapioficeandfire.com/api/characters/112',\n",
       "  'https://www.anapioficeandfire.com/api/characters/114',\n",
       "  'https://www.anapioficeandfire.com/api/characters/115',\n",
       "  'https://www.anapioficeandfire.com/api/characters/116',\n",
       "  'https://www.anapioficeandfire.com/api/characters/117',\n",
       "  'https://www.anapioficeandfire.com/api/characters/118',\n",
       "  'https://www.anapioficeandfire.com/api/characters/120',\n",
       "  'https://www.anapioficeandfire.com/api/characters/122',\n",
       "  'https://www.anapioficeandfire.com/api/characters/123',\n",
       "  'https://www.anapioficeandfire.com/api/characters/124',\n",
       "  'https://www.anapioficeandfire.com/api/characters/125',\n",
       "  'https://www.anapioficeandfire.com/api/characters/127',\n",
       "  'https://www.anapioficeandfire.com/api/characters/130',\n",
       "  'https://www.anapioficeandfire.com/api/characters/138',\n",
       "  'https://www.anapioficeandfire.com/api/characters/141',\n",
       "  'https://www.anapioficeandfire.com/api/characters/142',\n",
       "  'https://www.anapioficeandfire.com/api/characters/145',\n",
       "  'https://www.anapioficeandfire.com/api/characters/146',\n",
       "  'https://www.anapioficeandfire.com/api/characters/147',\n",
       "  'https://www.anapioficeandfire.com/api/characters/149',\n",
       "  'https://www.anapioficeandfire.com/api/characters/151',\n",
       "  'https://www.anapioficeandfire.com/api/characters/153',\n",
       "  'https://www.anapioficeandfire.com/api/characters/158',\n",
       "  'https://www.anapioficeandfire.com/api/characters/159',\n",
       "  'https://www.anapioficeandfire.com/api/characters/160',\n",
       "  'https://www.anapioficeandfire.com/api/characters/161',\n",
       "  'https://www.anapioficeandfire.com/api/characters/162',\n",
       "  'https://www.anapioficeandfire.com/api/characters/164',\n",
       "  'https://www.anapioficeandfire.com/api/characters/168',\n",
       "  'https://www.anapioficeandfire.com/api/characters/169',\n",
       "  'https://www.anapioficeandfire.com/api/characters/173',\n",
       "  'https://www.anapioficeandfire.com/api/characters/175',\n",
       "  'https://www.anapioficeandfire.com/api/characters/177',\n",
       "  'https://www.anapioficeandfire.com/api/characters/179',\n",
       "  'https://www.anapioficeandfire.com/api/characters/180',\n",
       "  'https://www.anapioficeandfire.com/api/characters/181',\n",
       "  'https://www.anapioficeandfire.com/api/characters/187',\n",
       "  'https://www.anapioficeandfire.com/api/characters/188',\n",
       "  'https://www.anapioficeandfire.com/api/characters/189',\n",
       "  'https://www.anapioficeandfire.com/api/characters/190',\n",
       "  'https://www.anapioficeandfire.com/api/characters/193',\n",
       "  'https://www.anapioficeandfire.com/api/characters/194',\n",
       "  'https://www.anapioficeandfire.com/api/characters/199',\n",
       "  'https://www.anapioficeandfire.com/api/characters/200',\n",
       "  'https://www.anapioficeandfire.com/api/characters/202',\n",
       "  'https://www.anapioficeandfire.com/api/characters/203',\n",
       "  'https://www.anapioficeandfire.com/api/characters/204',\n",
       "  'https://www.anapioficeandfire.com/api/characters/206',\n",
       "  'https://www.anapioficeandfire.com/api/characters/214',\n",
       "  'https://www.anapioficeandfire.com/api/characters/216',\n",
       "  'https://www.anapioficeandfire.com/api/characters/217',\n",
       "  'https://www.anapioficeandfire.com/api/characters/219',\n",
       "  'https://www.anapioficeandfire.com/api/characters/222',\n",
       "  'https://www.anapioficeandfire.com/api/characters/223',\n",
       "  'https://www.anapioficeandfire.com/api/characters/225',\n",
       "  'https://www.anapioficeandfire.com/api/characters/227',\n",
       "  'https://www.anapioficeandfire.com/api/characters/228',\n",
       "  'https://www.anapioficeandfire.com/api/characters/230',\n",
       "  'https://www.anapioficeandfire.com/api/characters/234',\n",
       "  'https://www.anapioficeandfire.com/api/characters/235',\n",
       "  'https://www.anapioficeandfire.com/api/characters/237',\n",
       "  'https://www.anapioficeandfire.com/api/characters/238',\n",
       "  'https://www.anapioficeandfire.com/api/characters/245',\n",
       "  'https://www.anapioficeandfire.com/api/characters/247',\n",
       "  'https://www.anapioficeandfire.com/api/characters/250',\n",
       "  'https://www.anapioficeandfire.com/api/characters/251',\n",
       "  'https://www.anapioficeandfire.com/api/characters/252',\n",
       "  'https://www.anapioficeandfire.com/api/characters/254',\n",
       "  'https://www.anapioficeandfire.com/api/characters/262',\n",
       "  'https://www.anapioficeandfire.com/api/characters/263',\n",
       "  'https://www.anapioficeandfire.com/api/characters/264',\n",
       "  'https://www.anapioficeandfire.com/api/characters/267',\n",
       "  'https://www.anapioficeandfire.com/api/characters/273',\n",
       "  'https://www.anapioficeandfire.com/api/characters/274',\n",
       "  'https://www.anapioficeandfire.com/api/characters/279',\n",
       "  'https://www.anapioficeandfire.com/api/characters/280',\n",
       "  'https://www.anapioficeandfire.com/api/characters/282',\n",
       "  'https://www.anapioficeandfire.com/api/characters/285',\n",
       "  'https://www.anapioficeandfire.com/api/characters/286',\n",
       "  'https://www.anapioficeandfire.com/api/characters/288',\n",
       "  'https://www.anapioficeandfire.com/api/characters/290',\n",
       "  'https://www.anapioficeandfire.com/api/characters/291',\n",
       "  'https://www.anapioficeandfire.com/api/characters/292',\n",
       "  'https://www.anapioficeandfire.com/api/characters/294',\n",
       "  'https://www.anapioficeandfire.com/api/characters/295',\n",
       "  'https://www.anapioficeandfire.com/api/characters/296',\n",
       "  'https://www.anapioficeandfire.com/api/characters/297',\n",
       "  'https://www.anapioficeandfire.com/api/characters/298',\n",
       "  'https://www.anapioficeandfire.com/api/characters/299',\n",
       "  'https://www.anapioficeandfire.com/api/characters/300',\n",
       "  'https://www.anapioficeandfire.com/api/characters/303',\n",
       "  'https://www.anapioficeandfire.com/api/characters/306',\n",
       "  'https://www.anapioficeandfire.com/api/characters/308',\n",
       "  'https://www.anapioficeandfire.com/api/characters/309',\n",
       "  'https://www.anapioficeandfire.com/api/characters/310',\n",
       "  'https://www.anapioficeandfire.com/api/characters/311',\n",
       "  'https://www.anapioficeandfire.com/api/characters/312',\n",
       "  'https://www.anapioficeandfire.com/api/characters/315',\n",
       "  'https://www.anapioficeandfire.com/api/characters/320',\n",
       "  'https://www.anapioficeandfire.com/api/characters/321',\n",
       "  'https://www.anapioficeandfire.com/api/characters/322',\n",
       "  'https://www.anapioficeandfire.com/api/characters/323',\n",
       "  'https://www.anapioficeandfire.com/api/characters/325',\n",
       "  'https://www.anapioficeandfire.com/api/characters/326',\n",
       "  'https://www.anapioficeandfire.com/api/characters/327',\n",
       "  'https://www.anapioficeandfire.com/api/characters/329',\n",
       "  'https://www.anapioficeandfire.com/api/characters/330',\n",
       "  'https://www.anapioficeandfire.com/api/characters/331',\n",
       "  'https://www.anapioficeandfire.com/api/characters/332',\n",
       "  'https://www.anapioficeandfire.com/api/characters/336',\n",
       "  'https://www.anapioficeandfire.com/api/characters/337',\n",
       "  'https://www.anapioficeandfire.com/api/characters/338',\n",
       "  'https://www.anapioficeandfire.com/api/characters/339',\n",
       "  'https://www.anapioficeandfire.com/api/characters/341',\n",
       "  'https://www.anapioficeandfire.com/api/characters/346',\n",
       "  'https://www.anapioficeandfire.com/api/characters/347',\n",
       "  'https://www.anapioficeandfire.com/api/characters/348',\n",
       "  'https://www.anapioficeandfire.com/api/characters/352',\n",
       "  'https://www.anapioficeandfire.com/api/characters/357',\n",
       "  'https://www.anapioficeandfire.com/api/characters/360',\n",
       "  'https://www.anapioficeandfire.com/api/characters/361',\n",
       "  'https://www.anapioficeandfire.com/api/characters/362',\n",
       "  'https://www.anapioficeandfire.com/api/characters/364',\n",
       "  'https://www.anapioficeandfire.com/api/characters/365',\n",
       "  'https://www.anapioficeandfire.com/api/characters/368',\n",
       "  'https://www.anapioficeandfire.com/api/characters/369',\n",
       "  'https://www.anapioficeandfire.com/api/characters/370',\n",
       "  'https://www.anapioficeandfire.com/api/characters/372',\n",
       "  'https://www.anapioficeandfire.com/api/characters/374',\n",
       "  'https://www.anapioficeandfire.com/api/characters/375',\n",
       "  'https://www.anapioficeandfire.com/api/characters/377',\n",
       "  'https://www.anapioficeandfire.com/api/characters/379',\n",
       "  'https://www.anapioficeandfire.com/api/characters/380',\n",
       "  'https://www.anapioficeandfire.com/api/characters/381',\n",
       "  'https://www.anapioficeandfire.com/api/characters/382',\n",
       "  'https://www.anapioficeandfire.com/api/characters/383',\n",
       "  'https://www.anapioficeandfire.com/api/characters/385',\n",
       "  'https://www.anapioficeandfire.com/api/characters/392',\n",
       "  'https://www.anapioficeandfire.com/api/characters/393',\n",
       "  'https://www.anapioficeandfire.com/api/characters/394',\n",
       "  'https://www.anapioficeandfire.com/api/characters/397',\n",
       "  'https://www.anapioficeandfire.com/api/characters/401',\n",
       "  'https://www.anapioficeandfire.com/api/characters/404',\n",
       "  'https://www.anapioficeandfire.com/api/characters/405',\n",
       "  'https://www.anapioficeandfire.com/api/characters/406',\n",
       "  'https://www.anapioficeandfire.com/api/characters/408',\n",
       "  'https://www.anapioficeandfire.com/api/characters/411',\n",
       "  'https://www.anapioficeandfire.com/api/characters/413',\n",
       "  'https://www.anapioficeandfire.com/api/characters/415',\n",
       "  'https://www.anapioficeandfire.com/api/characters/416',\n",
       "  'https://www.anapioficeandfire.com/api/characters/417',\n",
       "  'https://www.anapioficeandfire.com/api/characters/418',\n",
       "  'https://www.anapioficeandfire.com/api/characters/421',\n",
       "  'https://www.anapioficeandfire.com/api/characters/423',\n",
       "  'https://www.anapioficeandfire.com/api/characters/424',\n",
       "  'https://www.anapioficeandfire.com/api/characters/426',\n",
       "  'https://www.anapioficeandfire.com/api/characters/434',\n",
       "  'https://www.anapioficeandfire.com/api/characters/438',\n",
       "  'https://www.anapioficeandfire.com/api/characters/439',\n",
       "  'https://www.anapioficeandfire.com/api/characters/442',\n",
       "  'https://www.anapioficeandfire.com/api/characters/443',\n",
       "  'https://www.anapioficeandfire.com/api/characters/448',\n",
       "  'https://www.anapioficeandfire.com/api/characters/453',\n",
       "  'https://www.anapioficeandfire.com/api/characters/458',\n",
       "  'https://www.anapioficeandfire.com/api/characters/461',\n",
       "  'https://www.anapioficeandfire.com/api/characters/462',\n",
       "  'https://www.anapioficeandfire.com/api/characters/465',\n",
       "  'https://www.anapioficeandfire.com/api/characters/470',\n",
       "  'https://www.anapioficeandfire.com/api/characters/475',\n",
       "  'https://www.anapioficeandfire.com/api/characters/476',\n",
       "  'https://www.anapioficeandfire.com/api/characters/485',\n",
       "  'https://www.anapioficeandfire.com/api/characters/486',\n",
       "  'https://www.anapioficeandfire.com/api/characters/487',\n",
       "  'https://www.anapioficeandfire.com/api/characters/490',\n",
       "  'https://www.anapioficeandfire.com/api/characters/496',\n",
       "  'https://www.anapioficeandfire.com/api/characters/498',\n",
       "  'https://www.anapioficeandfire.com/api/characters/499',\n",
       "  'https://www.anapioficeandfire.com/api/characters/500',\n",
       "  'https://www.anapioficeandfire.com/api/characters/501',\n",
       "  'https://www.anapioficeandfire.com/api/characters/502',\n",
       "  'https://www.anapioficeandfire.com/api/characters/503',\n",
       "  'https://www.anapioficeandfire.com/api/characters/504',\n",
       "  'https://www.anapioficeandfire.com/api/characters/506',\n",
       "  'https://www.anapioficeandfire.com/api/characters/507',\n",
       "  'https://www.anapioficeandfire.com/api/characters/511',\n",
       "  'https://www.anapioficeandfire.com/api/characters/519',\n",
       "  'https://www.anapioficeandfire.com/api/characters/521',\n",
       "  'https://www.anapioficeandfire.com/api/characters/522',\n",
       "  'https://www.anapioficeandfire.com/api/characters/523',\n",
       "  'https://www.anapioficeandfire.com/api/characters/524',\n",
       "  'https://www.anapioficeandfire.com/api/characters/526',\n",
       "  'https://www.anapioficeandfire.com/api/characters/527',\n",
       "  'https://www.anapioficeandfire.com/api/characters/530',\n",
       "  'https://www.anapioficeandfire.com/api/characters/531',\n",
       "  'https://www.anapioficeandfire.com/api/characters/532',\n",
       "  'https://www.anapioficeandfire.com/api/characters/533',\n",
       "  'https://www.anapioficeandfire.com/api/characters/534',\n",
       "  'https://www.anapioficeandfire.com/api/characters/535',\n",
       "  'https://www.anapioficeandfire.com/api/characters/536',\n",
       "  'https://www.anapioficeandfire.com/api/characters/537',\n",
       "  'https://www.anapioficeandfire.com/api/characters/539',\n",
       "  'https://www.anapioficeandfire.com/api/characters/547',\n",
       "  'https://www.anapioficeandfire.com/api/characters/549',\n",
       "  'https://www.anapioficeandfire.com/api/characters/550',\n",
       "  'https://www.anapioficeandfire.com/api/characters/553',\n",
       "  'https://www.anapioficeandfire.com/api/characters/555',\n",
       "  'https://www.anapioficeandfire.com/api/characters/557',\n",
       "  'https://www.anapioficeandfire.com/api/characters/559',\n",
       "  'https://www.anapioficeandfire.com/api/characters/560',\n",
       "  'https://www.anapioficeandfire.com/api/characters/561',\n",
       "  'https://www.anapioficeandfire.com/api/characters/562',\n",
       "  'https://www.anapioficeandfire.com/api/characters/563',\n",
       "  'https://www.anapioficeandfire.com/api/characters/565',\n",
       "  'https://www.anapioficeandfire.com/api/characters/571',\n",
       "  'https://www.anapioficeandfire.com/api/characters/572',\n",
       "  'https://www.anapioficeandfire.com/api/characters/574',\n",
       "  'https://www.anapioficeandfire.com/api/characters/575',\n",
       "  'https://www.anapioficeandfire.com/api/characters/576',\n",
       "  'https://www.anapioficeandfire.com/api/characters/580',\n",
       "  'https://www.anapioficeandfire.com/api/characters/585',\n",
       "  'https://www.anapioficeandfire.com/api/characters/586',\n",
       "  'https://www.anapioficeandfire.com/api/characters/587',\n",
       "  'https://www.anapioficeandfire.com/api/characters/588',\n",
       "  'https://www.anapioficeandfire.com/api/characters/590',\n",
       "  'https://www.anapioficeandfire.com/api/characters/592',\n",
       "  'https://www.anapioficeandfire.com/api/characters/595',\n",
       "  'https://www.anapioficeandfire.com/api/characters/597',\n",
       "  'https://www.anapioficeandfire.com/api/characters/599',\n",
       "  'https://www.anapioficeandfire.com/api/characters/600',\n",
       "  'https://www.anapioficeandfire.com/api/characters/602',\n",
       "  'https://www.anapioficeandfire.com/api/characters/603',\n",
       "  'https://www.anapioficeandfire.com/api/characters/604',\n",
       "  'https://www.anapioficeandfire.com/api/characters/605',\n",
       "  'https://www.anapioficeandfire.com/api/characters/606',\n",
       "  'https://www.anapioficeandfire.com/api/characters/607',\n",
       "  'https://www.anapioficeandfire.com/api/characters/609',\n",
       "  'https://www.anapioficeandfire.com/api/characters/613',\n",
       "  'https://www.anapioficeandfire.com/api/characters/616',\n",
       "  'https://www.anapioficeandfire.com/api/characters/617',\n",
       "  'https://www.anapioficeandfire.com/api/characters/621',\n",
       "  'https://www.anapioficeandfire.com/api/characters/622',\n",
       "  'https://www.anapioficeandfire.com/api/characters/623',\n",
       "  'https://www.anapioficeandfire.com/api/characters/624',\n",
       "  'https://www.anapioficeandfire.com/api/characters/625',\n",
       "  'https://www.anapioficeandfire.com/api/characters/626',\n",
       "  'https://www.anapioficeandfire.com/api/characters/628',\n",
       "  'https://www.anapioficeandfire.com/api/characters/629',\n",
       "  'https://www.anapioficeandfire.com/api/characters/630',\n",
       "  'https://www.anapioficeandfire.com/api/characters/631',\n",
       "  'https://www.anapioficeandfire.com/api/characters/632',\n",
       "  'https://www.anapioficeandfire.com/api/characters/635',\n",
       "  'https://www.anapioficeandfire.com/api/characters/636',\n",
       "  'https://www.anapioficeandfire.com/api/characters/638',\n",
       "  'https://www.anapioficeandfire.com/api/characters/639',\n",
       "  'https://www.anapioficeandfire.com/api/characters/640',\n",
       "  'https://www.anapioficeandfire.com/api/characters/647',\n",
       "  'https://www.anapioficeandfire.com/api/characters/649',\n",
       "  'https://www.anapioficeandfire.com/api/characters/650',\n",
       "  'https://www.anapioficeandfire.com/api/characters/651',\n",
       "  'https://www.anapioficeandfire.com/api/characters/657',\n",
       "  'https://www.anapioficeandfire.com/api/characters/658',\n",
       "  'https://www.anapioficeandfire.com/api/characters/659',\n",
       "  'https://www.anapioficeandfire.com/api/characters/660',\n",
       "  'https://www.anapioficeandfire.com/api/characters/662',\n",
       "  'https://www.anapioficeandfire.com/api/characters/663',\n",
       "  'https://www.anapioficeandfire.com/api/characters/664',\n",
       "  'https://www.anapioficeandfire.com/api/characters/665',\n",
       "  'https://www.anapioficeandfire.com/api/characters/666',\n",
       "  'https://www.anapioficeandfire.com/api/characters/669',\n",
       "  'https://www.anapioficeandfire.com/api/characters/670',\n",
       "  'https://www.anapioficeandfire.com/api/characters/673',\n",
       "  'https://www.anapioficeandfire.com/api/characters/674',\n",
       "  'https://www.anapioficeandfire.com/api/characters/676',\n",
       "  'https://www.anapioficeandfire.com/api/characters/677',\n",
       "  'https://www.anapioficeandfire.com/api/characters/678',\n",
       "  'https://www.anapioficeandfire.com/api/characters/682',\n",
       "  'https://www.anapioficeandfire.com/api/characters/683',\n",
       "  'https://www.anapioficeandfire.com/api/characters/686',\n",
       "  'https://www.anapioficeandfire.com/api/characters/688',\n",
       "  'https://www.anapioficeandfire.com/api/characters/689',\n",
       "  'https://www.anapioficeandfire.com/api/characters/690',\n",
       "  'https://www.anapioficeandfire.com/api/characters/691',\n",
       "  'https://www.anapioficeandfire.com/api/characters/692',\n",
       "  'https://www.anapioficeandfire.com/api/characters/693',\n",
       "  'https://www.anapioficeandfire.com/api/characters/694',\n",
       "  'https://www.anapioficeandfire.com/api/characters/697',\n",
       "  'https://www.anapioficeandfire.com/api/characters/699',\n",
       "  'https://www.anapioficeandfire.com/api/characters/700',\n",
       "  'https://www.anapioficeandfire.com/api/characters/701',\n",
       "  'https://www.anapioficeandfire.com/api/characters/704',\n",
       "  'https://www.anapioficeandfire.com/api/characters/708',\n",
       "  'https://www.anapioficeandfire.com/api/characters/710',\n",
       "  'https://www.anapioficeandfire.com/api/characters/711',\n",
       "  'https://www.anapioficeandfire.com/api/characters/712',\n",
       "  'https://www.anapioficeandfire.com/api/characters/713',\n",
       "  'https://www.anapioficeandfire.com/api/characters/717',\n",
       "  'https://www.anapioficeandfire.com/api/characters/718',\n",
       "  'https://www.anapioficeandfire.com/api/characters/720',\n",
       "  'https://www.anapioficeandfire.com/api/characters/721',\n",
       "  'https://www.anapioficeandfire.com/api/characters/722',\n",
       "  'https://www.anapioficeandfire.com/api/characters/723',\n",
       "  'https://www.anapioficeandfire.com/api/characters/725',\n",
       "  'https://www.anapioficeandfire.com/api/characters/727',\n",
       "  'https://www.anapioficeandfire.com/api/characters/730',\n",
       "  'https://www.anapioficeandfire.com/api/characters/731',\n",
       "  'https://www.anapioficeandfire.com/api/characters/735',\n",
       "  'https://www.anapioficeandfire.com/api/characters/736',\n",
       "  'https://www.anapioficeandfire.com/api/characters/738',\n",
       "  'https://www.anapioficeandfire.com/api/characters/740',\n",
       "  'https://www.anapioficeandfire.com/api/characters/741',\n",
       "  'https://www.anapioficeandfire.com/api/characters/742',\n",
       "  'https://www.anapioficeandfire.com/api/characters/743',\n",
       "  'https://www.anapioficeandfire.com/api/characters/745',\n",
       "  'https://www.anapioficeandfire.com/api/characters/746',\n",
       "  'https://www.anapioficeandfire.com/api/characters/747',\n",
       "  'https://www.anapioficeandfire.com/api/characters/748',\n",
       "  'https://www.anapioficeandfire.com/api/characters/750',\n",
       "  'https://www.anapioficeandfire.com/api/characters/752',\n",
       "  'https://www.anapioficeandfire.com/api/characters/754',\n",
       "  'https://www.anapioficeandfire.com/api/characters/755',\n",
       "  'https://www.anapioficeandfire.com/api/characters/756',\n",
       "  'https://www.anapioficeandfire.com/api/characters/757',\n",
       "  'https://www.anapioficeandfire.com/api/characters/761',\n",
       "  'https://www.anapioficeandfire.com/api/characters/762',\n",
       "  'https://www.anapioficeandfire.com/api/characters/764',\n",
       "  'https://www.anapioficeandfire.com/api/characters/765',\n",
       "  'https://www.anapioficeandfire.com/api/characters/766',\n",
       "  'https://www.anapioficeandfire.com/api/characters/767',\n",
       "  'https://www.anapioficeandfire.com/api/characters/768',\n",
       "  'https://www.anapioficeandfire.com/api/characters/769',\n",
       "  'https://www.anapioficeandfire.com/api/characters/770',\n",
       "  'https://www.anapioficeandfire.com/api/characters/771',\n",
       "  'https://www.anapioficeandfire.com/api/characters/772',\n",
       "  'https://www.anapioficeandfire.com/api/characters/774',\n",
       "  'https://www.anapioficeandfire.com/api/characters/775',\n",
       "  'https://www.anapioficeandfire.com/api/characters/776',\n",
       "  'https://www.anapioficeandfire.com/api/characters/778',\n",
       "  'https://www.anapioficeandfire.com/api/characters/780',\n",
       "  'https://www.anapioficeandfire.com/api/characters/781',\n",
       "  'https://www.anapioficeandfire.com/api/characters/783',\n",
       "  'https://www.anapioficeandfire.com/api/characters/784',\n",
       "  'https://www.anapioficeandfire.com/api/characters/785',\n",
       "  'https://www.anapioficeandfire.com/api/characters/786',\n",
       "  'https://www.anapioficeandfire.com/api/characters/788',\n",
       "  'https://www.anapioficeandfire.com/api/characters/796',\n",
       "  'https://www.anapioficeandfire.com/api/characters/799',\n",
       "  'https://www.anapioficeandfire.com/api/characters/800',\n",
       "  'https://www.anapioficeandfire.com/api/characters/801',\n",
       "  'https://www.anapioficeandfire.com/api/characters/802',\n",
       "  'https://www.anapioficeandfire.com/api/characters/803',\n",
       "  'https://www.anapioficeandfire.com/api/characters/804',\n",
       "  'https://www.anapioficeandfire.com/api/characters/805',\n",
       "  'https://www.anapioficeandfire.com/api/characters/806',\n",
       "  'https://www.anapioficeandfire.com/api/characters/808',\n",
       "  'https://www.anapioficeandfire.com/api/characters/809',\n",
       "  'https://www.anapioficeandfire.com/api/characters/811',\n",
       "  'https://www.anapioficeandfire.com/api/characters/812',\n",
       "  'https://www.anapioficeandfire.com/api/characters/814',\n",
       "  'https://www.anapioficeandfire.com/api/characters/815',\n",
       "  'https://www.anapioficeandfire.com/api/characters/817',\n",
       "  'https://www.anapioficeandfire.com/api/characters/818',\n",
       "  'https://www.anapioficeandfire.com/api/characters/819',\n",
       "  'https://www.anapioficeandfire.com/api/characters/820',\n",
       "  'https://www.anapioficeandfire.com/api/characters/822',\n",
       "  'https://www.anapioficeandfire.com/api/characters/823',\n",
       "  'https://www.anapioficeandfire.com/api/characters/824',\n",
       "  'https://www.anapioficeandfire.com/api/characters/825',\n",
       "  'https://www.anapioficeandfire.com/api/characters/826',\n",
       "  'https://www.anapioficeandfire.com/api/characters/827',\n",
       "  'https://www.anapioficeandfire.com/api/characters/828',\n",
       "  'https://www.anapioficeandfire.com/api/characters/829',\n",
       "  'https://www.anapioficeandfire.com/api/characters/831',\n",
       "  'https://www.anapioficeandfire.com/api/characters/832',\n",
       "  'https://www.anapioficeandfire.com/api/characters/834',\n",
       "  'https://www.anapioficeandfire.com/api/characters/837',\n",
       "  'https://www.anapioficeandfire.com/api/characters/838',\n",
       "  'https://www.anapioficeandfire.com/api/characters/844',\n",
       "  'https://www.anapioficeandfire.com/api/characters/848',\n",
       "  'https://www.anapioficeandfire.com/api/characters/849',\n",
       "  'https://www.anapioficeandfire.com/api/characters/850',\n",
       "  'https://www.anapioficeandfire.com/api/characters/851',\n",
       "  'https://www.anapioficeandfire.com/api/characters/852',\n",
       "  'https://www.anapioficeandfire.com/api/characters/854',\n",
       "  'https://www.anapioficeandfire.com/api/characters/855',\n",
       "  'https://www.anapioficeandfire.com/api/characters/856',\n",
       "  'https://www.anapioficeandfire.com/api/characters/858',\n",
       "  'https://www.anapioficeandfire.com/api/characters/860',\n",
       "  'https://www.anapioficeandfire.com/api/characters/862',\n",
       "  'https://www.anapioficeandfire.com/api/characters/863',\n",
       "  'https://www.anapioficeandfire.com/api/characters/866',\n",
       "  'https://www.anapioficeandfire.com/api/characters/867',\n",
       "  'https://www.anapioficeandfire.com/api/characters/869',\n",
       "  'https://www.anapioficeandfire.com/api/characters/874',\n",
       "  'https://www.anapioficeandfire.com/api/characters/876',\n",
       "  'https://www.anapioficeandfire.com/api/characters/877',\n",
       "  'https://www.anapioficeandfire.com/api/characters/882',\n",
       "  'https://www.anapioficeandfire.com/api/characters/884',\n",
       "  'https://www.anapioficeandfire.com/api/characters/887',\n",
       "  'https://www.anapioficeandfire.com/api/characters/889',\n",
       "  'https://www.anapioficeandfire.com/api/characters/890',\n",
       "  'https://www.anapioficeandfire.com/api/characters/891',\n",
       "  'https://www.anapioficeandfire.com/api/characters/892',\n",
       "  'https://www.anapioficeandfire.com/api/characters/894',\n",
       "  'https://www.anapioficeandfire.com/api/characters/896',\n",
       "  'https://www.anapioficeandfire.com/api/characters/897',\n",
       "  'https://www.anapioficeandfire.com/api/characters/899',\n",
       "  'https://www.anapioficeandfire.com/api/characters/900',\n",
       "  'https://www.anapioficeandfire.com/api/characters/901',\n",
       "  'https://www.anapioficeandfire.com/api/characters/902',\n",
       "  'https://www.anapioficeandfire.com/api/characters/903',\n",
       "  'https://www.anapioficeandfire.com/api/characters/905',\n",
       "  'https://www.anapioficeandfire.com/api/characters/909',\n",
       "  'https://www.anapioficeandfire.com/api/characters/912',\n",
       "  'https://www.anapioficeandfire.com/api/characters/913',\n",
       "  'https://www.anapioficeandfire.com/api/characters/914',\n",
       "  'https://www.anapioficeandfire.com/api/characters/922',\n",
       "  'https://www.anapioficeandfire.com/api/characters/923',\n",
       "  'https://www.anapioficeandfire.com/api/characters/925',\n",
       "  'https://www.anapioficeandfire.com/api/characters/927',\n",
       "  'https://www.anapioficeandfire.com/api/characters/929',\n",
       "  'https://www.anapioficeandfire.com/api/characters/930',\n",
       "  'https://www.anapioficeandfire.com/api/characters/931',\n",
       "  'https://www.anapioficeandfire.com/api/characters/932',\n",
       "  'https://www.anapioficeandfire.com/api/characters/933',\n",
       "  'https://www.anapioficeandfire.com/api/characters/937',\n",
       "  'https://www.anapioficeandfire.com/api/characters/938',\n",
       "  'https://www.anapioficeandfire.com/api/characters/940',\n",
       "  'https://www.anapioficeandfire.com/api/characters/941',\n",
       "  'https://www.anapioficeandfire.com/api/characters/944',\n",
       "  'https://www.anapioficeandfire.com/api/characters/945',\n",
       "  'https://www.anapioficeandfire.com/api/characters/946',\n",
       "  'https://www.anapioficeandfire.com/api/characters/947',\n",
       "  'https://www.anapioficeandfire.com/api/characters/948',\n",
       "  'https://www.anapioficeandfire.com/api/characters/949',\n",
       "  'https://www.anapioficeandfire.com/api/characters/950',\n",
       "  'https://www.anapioficeandfire.com/api/characters/952',\n",
       "  'https://www.anapioficeandfire.com/api/characters/953',\n",
       "  'https://www.anapioficeandfire.com/api/characters/955',\n",
       "  'https://www.anapioficeandfire.com/api/characters/956',\n",
       "  'https://www.anapioficeandfire.com/api/characters/959',\n",
       "  'https://www.anapioficeandfire.com/api/characters/960',\n",
       "  'https://www.anapioficeandfire.com/api/characters/961',\n",
       "  'https://www.anapioficeandfire.com/api/characters/965',\n",
       "  'https://www.anapioficeandfire.com/api/characters/966',\n",
       "  'https://www.anapioficeandfire.com/api/characters/968',\n",
       "  'https://www.anapioficeandfire.com/api/characters/972',\n",
       "  'https://www.anapioficeandfire.com/api/characters/973',\n",
       "  'https://www.anapioficeandfire.com/api/characters/974',\n",
       "  'https://www.anapioficeandfire.com/api/characters/975',\n",
       "  'https://www.anapioficeandfire.com/api/characters/976',\n",
       "  'https://www.anapioficeandfire.com/api/characters/983',\n",
       "  'https://www.anapioficeandfire.com/api/characters/984',\n",
       "  'https://www.anapioficeandfire.com/api/characters/986',\n",
       "  'https://www.anapioficeandfire.com/api/characters/989',\n",
       "  'https://www.anapioficeandfire.com/api/characters/991',\n",
       "  'https://www.anapioficeandfire.com/api/characters/992',\n",
       "  'https://www.anapioficeandfire.com/api/characters/994',\n",
       "  'https://www.anapioficeandfire.com/api/characters/995',\n",
       "  'https://www.anapioficeandfire.com/api/characters/996',\n",
       "  'https://www.anapioficeandfire.com/api/characters/997',\n",
       "  'https://www.anapioficeandfire.com/api/characters/998',\n",
       "  'https://www.anapioficeandfire.com/api/characters/1000',\n",
       "  'https://www.anapioficeandfire.com/api/characters/1004',\n",
       "  'https://www.anapioficeandfire.com/api/characters/1006',\n",
       "  'https://www.anapioficeandfire.com/api/characters/1008',\n",
       "  'https://www.anapioficeandfire.com/api/characters/1009',\n",
       "  'https://www.anapioficeandfire.com/api/characters/1010',\n",
       "  'https://www.anapioficeandfire.com/api/characters/1011',\n",
       "  'https://www.anapioficeandfire.com/api/characters/1013',\n",
       "  'https://www.anapioficeandfire.com/api/characters/1014',\n",
       "  'https://www.anapioficeandfire.com/api/characters/1017',\n",
       "  'https://www.anapioficeandfire.com/api/characters/1019',\n",
       "  'https://www.anapioficeandfire.com/api/characters/1020',\n",
       "  'https://www.anapioficeandfire.com/api/characters/1022',\n",
       "  'https://www.anapioficeandfire.com/api/characters/1024',\n",
       "  'https://www.anapioficeandfire.com/api/characters/1025',\n",
       "  'https://www.anapioficeandfire.com/api/characters/1027',\n",
       "  'https://www.anapioficeandfire.com/api/characters/1029',\n",
       "  'https://www.anapioficeandfire.com/api/characters/1033',\n",
       "  'https://www.anapioficeandfire.com/api/characters/1034',\n",
       "  'https://www.anapioficeandfire.com/api/characters/1036',\n",
       "  'https://www.anapioficeandfire.com/api/characters/1037',\n",
       "  'https://www.anapioficeandfire.com/api/characters/1038',\n",
       "  'https://www.anapioficeandfire.com/api/characters/1040',\n",
       "  'https://www.anapioficeandfire.com/api/characters/1043',\n",
       "  'https://www.anapioficeandfire.com/api/characters/1045',\n",
       "  'https://www.anapioficeandfire.com/api/characters/1046',\n",
       "  'https://www.anapioficeandfire.com/api/characters/1049',\n",
       "  'https://www.anapioficeandfire.com/api/characters/1051',\n",
       "  'https://www.anapioficeandfire.com/api/characters/1053',\n",
       "  'https://www.anapioficeandfire.com/api/characters/1054',\n",
       "  'https://www.anapioficeandfire.com/api/characters/1055',\n",
       "  'https://www.anapioficeandfire.com/api/characters/1056',\n",
       "  'https://www.anapioficeandfire.com/api/characters/1057',\n",
       "  'https://www.anapioficeandfire.com/api/characters/1058',\n",
       "  'https://www.anapioficeandfire.com/api/characters/1061',\n",
       "  'https://www.anapioficeandfire.com/api/characters/1063',\n",
       "  'https://www.anapioficeandfire.com/api/characters/1068',\n",
       "  'https://www.anapioficeandfire.com/api/characters/1072',\n",
       "  'https://www.anapioficeandfire.com/api/characters/1073',\n",
       "  'https://www.anapioficeandfire.com/api/characters/1074',\n",
       "  'https://www.anapioficeandfire.com/api/characters/1075',\n",
       "  'https://www.anapioficeandfire.com/api/characters/1077',\n",
       "  'https://www.anapioficeandfire.com/api/characters/1079',\n",
       "  'https://www.anapioficeandfire.com/api/characters/1080',\n",
       "  'https://www.anapioficeandfire.com/api/characters/1081',\n",
       "  'https://www.anapioficeandfire.com/api/characters/1082',\n",
       "  'https://www.anapioficeandfire.com/api/characters/1083',\n",
       "  'https://www.anapioficeandfire.com/api/characters/1084',\n",
       "  'https://www.anapioficeandfire.com/api/characters/1085',\n",
       "  'https://www.anapioficeandfire.com/api/characters/1086',\n",
       "  'https://www.anapioficeandfire.com/api/characters/1087',\n",
       "  'https://www.anapioficeandfire.com/api/characters/1088',\n",
       "  'https://www.anapioficeandfire.com/api/characters/1089',\n",
       "  'https://www.anapioficeandfire.com/api/characters/1090',\n",
       "  'https://www.anapioficeandfire.com/api/characters/1091',\n",
       "  'https://www.anapioficeandfire.com/api/characters/1092',\n",
       "  'https://www.anapioficeandfire.com/api/characters/1093',\n",
       "  'https://www.anapioficeandfire.com/api/characters/1094',\n",
       "  'https://www.anapioficeandfire.com/api/characters/1095',\n",
       "  'https://www.anapioficeandfire.com/api/characters/1096',\n",
       "  'https://www.anapioficeandfire.com/api/characters/1097',\n",
       "  'https://www.anapioficeandfire.com/api/characters/1099',\n",
       "  'https://www.anapioficeandfire.com/api/characters/1100',\n",
       "  'https://www.anapioficeandfire.com/api/characters/1102',\n",
       "  'https://www.anapioficeandfire.com/api/characters/1104',\n",
       "  'https://www.anapioficeandfire.com/api/characters/1105',\n",
       "  'https://www.anapioficeandfire.com/api/characters/1106',\n",
       "  'https://www.anapioficeandfire.com/api/characters/1107',\n",
       "  'https://www.anapioficeandfire.com/api/characters/1113',\n",
       "  'https://www.anapioficeandfire.com/api/characters/1114',\n",
       "  'https://www.anapioficeandfire.com/api/characters/1115',\n",
       "  'https://www.anapioficeandfire.com/api/characters/1116',\n",
       "  'https://www.anapioficeandfire.com/api/characters/1118',\n",
       "  'https://www.anapioficeandfire.com/api/characters/1122',\n",
       "  'https://www.anapioficeandfire.com/api/characters/1124',\n",
       "  'https://www.anapioficeandfire.com/api/characters/1125',\n",
       "  'https://www.anapioficeandfire.com/api/characters/1127',\n",
       "  'https://www.anapioficeandfire.com/api/characters/1131',\n",
       "  'https://www.anapioficeandfire.com/api/characters/1132',\n",
       "  'https://www.anapioficeandfire.com/api/characters/1134',\n",
       "  'https://www.anapioficeandfire.com/api/characters/1135',\n",
       "  'https://www.anapioficeandfire.com/api/characters/1136',\n",
       "  'https://www.anapioficeandfire.com/api/characters/1137',\n",
       "  'https://www.anapioficeandfire.com/api/characters/1139',\n",
       "  'https://www.anapioficeandfire.com/api/characters/1142',\n",
       "  'https://www.anapioficeandfire.com/api/characters/1144',\n",
       "  'https://www.anapioficeandfire.com/api/characters/1145',\n",
       "  'https://www.anapioficeandfire.com/api/characters/1146',\n",
       "  'https://www.anapioficeandfire.com/api/characters/1147',\n",
       "  'https://www.anapioficeandfire.com/api/characters/1151',\n",
       "  'https://www.anapioficeandfire.com/api/characters/1155',\n",
       "  'https://www.anapioficeandfire.com/api/characters/1157',\n",
       "  'https://www.anapioficeandfire.com/api/characters/1158',\n",
       "  'https://www.anapioficeandfire.com/api/characters/1161',\n",
       "  'https://www.anapioficeandfire.com/api/characters/1164',\n",
       "  'https://www.anapioficeandfire.com/api/characters/1165',\n",
       "  'https://www.anapioficeandfire.com/api/characters/1166',\n",
       "  'https://www.anapioficeandfire.com/api/characters/1172',\n",
       "  'https://www.anapioficeandfire.com/api/characters/1173',\n",
       "  'https://www.anapioficeandfire.com/api/characters/1174',\n",
       "  'https://www.anapioficeandfire.com/api/characters/1177',\n",
       "  'https://www.anapioficeandfire.com/api/characters/1179',\n",
       "  'https://www.anapioficeandfire.com/api/characters/1181',\n",
       "  'https://www.anapioficeandfire.com/api/characters/1182',\n",
       "  'https://www.anapioficeandfire.com/api/characters/1184',\n",
       "  'https://www.anapioficeandfire.com/api/characters/1186',\n",
       "  'https://www.anapioficeandfire.com/api/characters/1192',\n",
       "  'https://www.anapioficeandfire.com/api/characters/1194',\n",
       "  'https://www.anapioficeandfire.com/api/characters/1195',\n",
       "  'https://www.anapioficeandfire.com/api/characters/1196',\n",
       "  'https://www.anapioficeandfire.com/api/characters/1199',\n",
       "  'https://www.anapioficeandfire.com/api/characters/1200',\n",
       "  'https://www.anapioficeandfire.com/api/characters/1201',\n",
       "  'https://www.anapioficeandfire.com/api/characters/1205',\n",
       "  'https://www.anapioficeandfire.com/api/characters/1213',\n",
       "  'https://www.anapioficeandfire.com/api/characters/1216',\n",
       "  'https://www.anapioficeandfire.com/api/characters/1217',\n",
       "  'https://www.anapioficeandfire.com/api/characters/1220',\n",
       "  'https://www.anapioficeandfire.com/api/characters/1221',\n",
       "  'https://www.anapioficeandfire.com/api/characters/1222',\n",
       "  'https://www.anapioficeandfire.com/api/characters/1223',\n",
       "  'https://www.anapioficeandfire.com/api/characters/1224',\n",
       "  'https://www.anapioficeandfire.com/api/characters/1227',\n",
       "  'https://www.anapioficeandfire.com/api/characters/1231',\n",
       "  'https://www.anapioficeandfire.com/api/characters/1233',\n",
       "  'https://www.anapioficeandfire.com/api/characters/1234',\n",
       "  'https://www.anapioficeandfire.com/api/characters/1237',\n",
       "  'https://www.anapioficeandfire.com/api/characters/1240',\n",
       "  'https://www.anapioficeandfire.com/api/characters/1244',\n",
       "  'https://www.anapioficeandfire.com/api/characters/1246',\n",
       "  'https://www.anapioficeandfire.com/api/characters/1250',\n",
       "  'https://www.anapioficeandfire.com/api/characters/1252',\n",
       "  'https://www.anapioficeandfire.com/api/characters/1253',\n",
       "  'https://www.anapioficeandfire.com/api/characters/1257',\n",
       "  'https://www.anapioficeandfire.com/api/characters/1262',\n",
       "  'https://www.anapioficeandfire.com/api/characters/1265',\n",
       "  'https://www.anapioficeandfire.com/api/characters/1266',\n",
       "  'https://www.anapioficeandfire.com/api/characters/1270',\n",
       "  'https://www.anapioficeandfire.com/api/characters/1274',\n",
       "  'https://www.anapioficeandfire.com/api/characters/1275',\n",
       "  'https://www.anapioficeandfire.com/api/characters/1277',\n",
       "  'https://www.anapioficeandfire.com/api/characters/1279',\n",
       "  'https://www.anapioficeandfire.com/api/characters/1280',\n",
       "  'https://www.anapioficeandfire.com/api/characters/1281',\n",
       "  'https://www.anapioficeandfire.com/api/characters/1283',\n",
       "  'https://www.anapioficeandfire.com/api/characters/1289',\n",
       "  'https://www.anapioficeandfire.com/api/characters/1293',\n",
       "  'https://www.anapioficeandfire.com/api/characters/1295',\n",
       "  'https://www.anapioficeandfire.com/api/characters/1296',\n",
       "  'https://www.anapioficeandfire.com/api/characters/1298',\n",
       "  'https://www.anapioficeandfire.com/api/characters/1301',\n",
       "  'https://www.anapioficeandfire.com/api/characters/1305',\n",
       "  'https://www.anapioficeandfire.com/api/characters/1310',\n",
       "  'https://www.anapioficeandfire.com/api/characters/1311',\n",
       "  'https://www.anapioficeandfire.com/api/characters/1314',\n",
       "  'https://www.anapioficeandfire.com/api/characters/1315',\n",
       "  'https://www.anapioficeandfire.com/api/characters/1316',\n",
       "  'https://www.anapioficeandfire.com/api/characters/1317',\n",
       "  'https://www.anapioficeandfire.com/api/characters/1320',\n",
       "  'https://www.anapioficeandfire.com/api/characters/1321',\n",
       "  'https://www.anapioficeandfire.com/api/characters/1323',\n",
       "  'https://www.anapioficeandfire.com/api/characters/1325',\n",
       "  'https://www.anapioficeandfire.com/api/characters/1331',\n",
       "  'https://www.anapioficeandfire.com/api/characters/1334',\n",
       "  'https://www.anapioficeandfire.com/api/characters/1335',\n",
       "  'https://www.anapioficeandfire.com/api/characters/1337',\n",
       "  'https://www.anapioficeandfire.com/api/characters/1341',\n",
       "  'https://www.anapioficeandfire.com/api/characters/1342',\n",
       "  'https://www.anapioficeandfire.com/api/characters/1346',\n",
       "  'https://www.anapioficeandfire.com/api/characters/1347',\n",
       "  'https://www.anapioficeandfire.com/api/characters/1348',\n",
       "  'https://www.anapioficeandfire.com/api/characters/1350',\n",
       "  'https://www.anapioficeandfire.com/api/characters/1351',\n",
       "  'https://www.anapioficeandfire.com/api/characters/1352',\n",
       "  'https://www.anapioficeandfire.com/api/characters/1353',\n",
       "  'https://www.anapioficeandfire.com/api/characters/1355',\n",
       "  'https://www.anapioficeandfire.com/api/characters/1358',\n",
       "  'https://www.anapioficeandfire.com/api/characters/1362',\n",
       "  'https://www.anapioficeandfire.com/api/characters/1363',\n",
       "  'https://www.anapioficeandfire.com/api/characters/1364',\n",
       "  'https://www.anapioficeandfire.com/api/characters/1367',\n",
       "  'https://www.anapioficeandfire.com/api/characters/1369',\n",
       "  'https://www.anapioficeandfire.com/api/characters/1374',\n",
       "  'https://www.anapioficeandfire.com/api/characters/1375',\n",
       "  'https://www.anapioficeandfire.com/api/characters/1376',\n",
       "  'https://www.anapioficeandfire.com/api/characters/1377',\n",
       "  'https://www.anapioficeandfire.com/api/characters/1383',\n",
       "  'https://www.anapioficeandfire.com/api/characters/1384',\n",
       "  'https://www.anapioficeandfire.com/api/characters/1385',\n",
       "  'https://www.anapioficeandfire.com/api/characters/1390',\n",
       "  'https://www.anapioficeandfire.com/api/characters/1393',\n",
       "  'https://www.anapioficeandfire.com/api/characters/1396',\n",
       "  'https://www.anapioficeandfire.com/api/characters/1401',\n",
       "  'https://www.anapioficeandfire.com/api/characters/1404',\n",
       "  'https://www.anapioficeandfire.com/api/characters/1409',\n",
       "  'https://www.anapioficeandfire.com/api/characters/1410',\n",
       "  'https://www.anapioficeandfire.com/api/characters/1411',\n",
       "  'https://www.anapioficeandfire.com/api/characters/1412',\n",
       "  'https://www.anapioficeandfire.com/api/characters/1413',\n",
       "  'https://www.anapioficeandfire.com/api/characters/1417',\n",
       "  'https://www.anapioficeandfire.com/api/characters/1418',\n",
       "  'https://www.anapioficeandfire.com/api/characters/1419',\n",
       "  'https://www.anapioficeandfire.com/api/characters/1420',\n",
       "  'https://www.anapioficeandfire.com/api/characters/1425',\n",
       "  'https://www.anapioficeandfire.com/api/characters/1426',\n",
       "  'https://www.anapioficeandfire.com/api/characters/1427',\n",
       "  'https://www.anapioficeandfire.com/api/characters/1428',\n",
       "  'https://www.anapioficeandfire.com/api/characters/1429',\n",
       "  'https://www.anapioficeandfire.com/api/characters/1434',\n",
       "  'https://www.anapioficeandfire.com/api/characters/1435',\n",
       "  'https://www.anapioficeandfire.com/api/characters/1436',\n",
       "  'https://www.anapioficeandfire.com/api/characters/1437',\n",
       "  'https://www.anapioficeandfire.com/api/characters/1438',\n",
       "  'https://www.anapioficeandfire.com/api/characters/1442',\n",
       "  'https://www.anapioficeandfire.com/api/characters/1445',\n",
       "  'https://www.anapioficeandfire.com/api/characters/1447',\n",
       "  'https://www.anapioficeandfire.com/api/characters/1448',\n",
       "  'https://www.anapioficeandfire.com/api/characters/1450',\n",
       "  'https://www.anapioficeandfire.com/api/characters/1451',\n",
       "  'https://www.anapioficeandfire.com/api/characters/1453',\n",
       "  'https://www.anapioficeandfire.com/api/characters/1455',\n",
       "  'https://www.anapioficeandfire.com/api/characters/1465',\n",
       "  'https://www.anapioficeandfire.com/api/characters/1466',\n",
       "  'https://www.anapioficeandfire.com/api/characters/1467',\n",
       "  'https://www.anapioficeandfire.com/api/characters/1468',\n",
       "  'https://www.anapioficeandfire.com/api/characters/1471',\n",
       "  'https://www.anapioficeandfire.com/api/characters/1472',\n",
       "  'https://www.anapioficeandfire.com/api/characters/1474',\n",
       "  'https://www.anapioficeandfire.com/api/characters/1475',\n",
       "  'https://www.anapioficeandfire.com/api/characters/1479',\n",
       "  'https://www.anapioficeandfire.com/api/characters/1481',\n",
       "  'https://www.anapioficeandfire.com/api/characters/1487',\n",
       "  'https://www.anapioficeandfire.com/api/characters/1488',\n",
       "  'https://www.anapioficeandfire.com/api/characters/1494',\n",
       "  'https://www.anapioficeandfire.com/api/characters/1495',\n",
       "  'https://www.anapioficeandfire.com/api/characters/1497',\n",
       "  'https://www.anapioficeandfire.com/api/characters/1502',\n",
       "  'https://www.anapioficeandfire.com/api/characters/1507',\n",
       "  'https://www.anapioficeandfire.com/api/characters/1508',\n",
       "  'https://www.anapioficeandfire.com/api/characters/1515',\n",
       "  'https://www.anapioficeandfire.com/api/characters/1518',\n",
       "  'https://www.anapioficeandfire.com/api/characters/1519',\n",
       "  'https://www.anapioficeandfire.com/api/characters/1520',\n",
       "  'https://www.anapioficeandfire.com/api/characters/1522',\n",
       "  'https://www.anapioficeandfire.com/api/characters/1523',\n",
       "  'https://www.anapioficeandfire.com/api/characters/1525',\n",
       "  'https://www.anapioficeandfire.com/api/characters/1526',\n",
       "  'https://www.anapioficeandfire.com/api/characters/1531',\n",
       "  'https://www.anapioficeandfire.com/api/characters/1532',\n",
       "  'https://www.anapioficeandfire.com/api/characters/1533',\n",
       "  'https://www.anapioficeandfire.com/api/characters/1535',\n",
       "  'https://www.anapioficeandfire.com/api/characters/1536',\n",
       "  'https://www.anapioficeandfire.com/api/characters/1539',\n",
       "  'https://www.anapioficeandfire.com/api/characters/1540',\n",
       "  'https://www.anapioficeandfire.com/api/characters/1544',\n",
       "  'https://www.anapioficeandfire.com/api/characters/1547',\n",
       "  'https://www.anapioficeandfire.com/api/characters/1548',\n",
       "  'https://www.anapioficeandfire.com/api/characters/1549',\n",
       "  'https://www.anapioficeandfire.com/api/characters/1559',\n",
       "  'https://www.anapioficeandfire.com/api/characters/1560',\n",
       "  'https://www.anapioficeandfire.com/api/characters/1561',\n",
       "  'https://www.anapioficeandfire.com/api/characters/1569',\n",
       "  'https://www.anapioficeandfire.com/api/characters/1570',\n",
       "  'https://www.anapioficeandfire.com/api/characters/1571',\n",
       "  'https://www.anapioficeandfire.com/api/characters/1574',\n",
       "  'https://www.anapioficeandfire.com/api/characters/1575',\n",
       "  'https://www.anapioficeandfire.com/api/characters/1576',\n",
       "  'https://www.anapioficeandfire.com/api/characters/1577',\n",
       "  'https://www.anapioficeandfire.com/api/characters/1578',\n",
       "  'https://www.anapioficeandfire.com/api/characters/1580',\n",
       "  'https://www.anapioficeandfire.com/api/characters/1581',\n",
       "  'https://www.anapioficeandfire.com/api/characters/1584',\n",
       "  'https://www.anapioficeandfire.com/api/characters/1587',\n",
       "  'https://www.anapioficeandfire.com/api/characters/1594',\n",
       "  'https://www.anapioficeandfire.com/api/characters/1599',\n",
       "  'https://www.anapioficeandfire.com/api/characters/1603',\n",
       "  'https://www.anapioficeandfire.com/api/characters/1604',\n",
       "  'https://www.anapioficeandfire.com/api/characters/1606',\n",
       "  'https://www.anapioficeandfire.com/api/characters/1607',\n",
       "  'https://www.anapioficeandfire.com/api/characters/1612',\n",
       "  'https://www.anapioficeandfire.com/api/characters/1613',\n",
       "  'https://www.anapioficeandfire.com/api/characters/1615',\n",
       "  'https://www.anapioficeandfire.com/api/characters/1616',\n",
       "  'https://www.anapioficeandfire.com/api/characters/1617',\n",
       "  'https://www.anapioficeandfire.com/api/characters/1618',\n",
       "  'https://www.anapioficeandfire.com/api/characters/1619',\n",
       "  'https://www.anapioficeandfire.com/api/characters/1621',\n",
       "  'https://www.anapioficeandfire.com/api/characters/1623',\n",
       "  'https://www.anapioficeandfire.com/api/characters/1625',\n",
       "  'https://www.anapioficeandfire.com/api/characters/1626',\n",
       "  'https://www.anapioficeandfire.com/api/characters/1627',\n",
       "  'https://www.anapioficeandfire.com/api/characters/1629',\n",
       "  'https://www.anapioficeandfire.com/api/characters/1630',\n",
       "  'https://www.anapioficeandfire.com/api/characters/1632',\n",
       "  'https://www.anapioficeandfire.com/api/characters/1634',\n",
       "  'https://www.anapioficeandfire.com/api/characters/1640',\n",
       "  'https://www.anapioficeandfire.com/api/characters/1645',\n",
       "  'https://www.anapioficeandfire.com/api/characters/1647',\n",
       "  'https://www.anapioficeandfire.com/api/characters/1649',\n",
       "  'https://www.anapioficeandfire.com/api/characters/1650',\n",
       "  'https://www.anapioficeandfire.com/api/characters/1654',\n",
       "  'https://www.anapioficeandfire.com/api/characters/1656',\n",
       "  'https://www.anapioficeandfire.com/api/characters/1657',\n",
       "  'https://www.anapioficeandfire.com/api/characters/1658',\n",
       "  'https://www.anapioficeandfire.com/api/characters/1659',\n",
       "  'https://www.anapioficeandfire.com/api/characters/1660',\n",
       "  'https://www.anapioficeandfire.com/api/characters/1666',\n",
       "  'https://www.anapioficeandfire.com/api/characters/1667',\n",
       "  'https://www.anapioficeandfire.com/api/characters/1669',\n",
       "  'https://www.anapioficeandfire.com/api/characters/1670',\n",
       "  'https://www.anapioficeandfire.com/api/characters/1674',\n",
       "  'https://www.anapioficeandfire.com/api/characters/1675',\n",
       "  'https://www.anapioficeandfire.com/api/characters/1676',\n",
       "  'https://www.anapioficeandfire.com/api/characters/1678',\n",
       "  'https://www.anapioficeandfire.com/api/characters/1681',\n",
       "  'https://www.anapioficeandfire.com/api/characters/1682',\n",
       "  'https://www.anapioficeandfire.com/api/characters/1683',\n",
       "  'https://www.anapioficeandfire.com/api/characters/1684',\n",
       "  'https://www.anapioficeandfire.com/api/characters/1685',\n",
       "  'https://www.anapioficeandfire.com/api/characters/1688',\n",
       "  'https://www.anapioficeandfire.com/api/characters/1692',\n",
       "  'https://www.anapioficeandfire.com/api/characters/1695',\n",
       "  'https://www.anapioficeandfire.com/api/characters/1696',\n",
       "  'https://www.anapioficeandfire.com/api/characters/1697',\n",
       "  'https://www.anapioficeandfire.com/api/characters/1700',\n",
       "  'https://www.anapioficeandfire.com/api/characters/1701',\n",
       "  'https://www.anapioficeandfire.com/api/characters/1703',\n",
       "  'https://www.anapioficeandfire.com/api/characters/1704',\n",
       "  'https://www.anapioficeandfire.com/api/characters/1706',\n",
       "  'https://www.anapioficeandfire.com/api/characters/1708',\n",
       "  'https://www.anapioficeandfire.com/api/characters/1709',\n",
       "  'https://www.anapioficeandfire.com/api/characters/1713',\n",
       "  'https://www.anapioficeandfire.com/api/characters/1715',\n",
       "  'https://www.anapioficeandfire.com/api/characters/1727',\n",
       "  'https://www.anapioficeandfire.com/api/characters/1729',\n",
       "  'https://www.anapioficeandfire.com/api/characters/1730',\n",
       "  'https://www.anapioficeandfire.com/api/characters/1732',\n",
       "  'https://www.anapioficeandfire.com/api/characters/1733',\n",
       "  'https://www.anapioficeandfire.com/api/characters/1735',\n",
       "  'https://www.anapioficeandfire.com/api/characters/1740',\n",
       "  'https://www.anapioficeandfire.com/api/characters/1741',\n",
       "  'https://www.anapioficeandfire.com/api/characters/1742',\n",
       "  'https://www.anapioficeandfire.com/api/characters/1747',\n",
       "  'https://www.anapioficeandfire.com/api/characters/1749',\n",
       "  'https://www.anapioficeandfire.com/api/characters/1754',\n",
       "  'https://www.anapioficeandfire.com/api/characters/1755',\n",
       "  'https://www.anapioficeandfire.com/api/characters/1759',\n",
       "  'https://www.anapioficeandfire.com/api/characters/1761',\n",
       "  'https://www.anapioficeandfire.com/api/characters/1762',\n",
       "  'https://www.anapioficeandfire.com/api/characters/1764',\n",
       "  'https://www.anapioficeandfire.com/api/characters/1766',\n",
       "  'https://www.anapioficeandfire.com/api/characters/1768',\n",
       "  'https://www.anapioficeandfire.com/api/characters/1769',\n",
       "  'https://www.anapioficeandfire.com/api/characters/1770',\n",
       "  'https://www.anapioficeandfire.com/api/characters/1774',\n",
       "  'https://www.anapioficeandfire.com/api/characters/1776',\n",
       "  'https://www.anapioficeandfire.com/api/characters/1777',\n",
       "  'https://www.anapioficeandfire.com/api/characters/1778',\n",
       "  'https://www.anapioficeandfire.com/api/characters/1781',\n",
       "  'https://www.anapioficeandfire.com/api/characters/1782',\n",
       "  'https://www.anapioficeandfire.com/api/characters/1783',\n",
       "  'https://www.anapioficeandfire.com/api/characters/1784',\n",
       "  'https://www.anapioficeandfire.com/api/characters/1785',\n",
       "  'https://www.anapioficeandfire.com/api/characters/1787',\n",
       "  'https://www.anapioficeandfire.com/api/characters/1789',\n",
       "  'https://www.anapioficeandfire.com/api/characters/1791',\n",
       "  'https://www.anapioficeandfire.com/api/characters/1794',\n",
       "  'https://www.anapioficeandfire.com/api/characters/1795',\n",
       "  'https://www.anapioficeandfire.com/api/characters/1797',\n",
       "  'https://www.anapioficeandfire.com/api/characters/1799',\n",
       "  'https://www.anapioficeandfire.com/api/characters/1800',\n",
       "  'https://www.anapioficeandfire.com/api/characters/1804',\n",
       "  'https://www.anapioficeandfire.com/api/characters/1805',\n",
       "  'https://www.anapioficeandfire.com/api/characters/1806',\n",
       "  'https://www.anapioficeandfire.com/api/characters/1807',\n",
       "  'https://www.anapioficeandfire.com/api/characters/1808',\n",
       "  'https://www.anapioficeandfire.com/api/characters/1809',\n",
       "  'https://www.anapioficeandfire.com/api/characters/1810',\n",
       "  'https://www.anapioficeandfire.com/api/characters/1811',\n",
       "  'https://www.anapioficeandfire.com/api/characters/1814',\n",
       "  'https://www.anapioficeandfire.com/api/characters/1815',\n",
       "  'https://www.anapioficeandfire.com/api/characters/1821',\n",
       "  'https://www.anapioficeandfire.com/api/characters/1824',\n",
       "  'https://www.anapioficeandfire.com/api/characters/1825',\n",
       "  'https://www.anapioficeandfire.com/api/characters/1826',\n",
       "  'https://www.anapioficeandfire.com/api/characters/1827',\n",
       "  'https://www.anapioficeandfire.com/api/characters/1828',\n",
       "  'https://www.anapioficeandfire.com/api/characters/1830',\n",
       "  'https://www.anapioficeandfire.com/api/characters/1839',\n",
       "  'https://www.anapioficeandfire.com/api/characters/1843',\n",
       "  'https://www.anapioficeandfire.com/api/characters/1847',\n",
       "  'https://www.anapioficeandfire.com/api/characters/1848',\n",
       "  'https://www.anapioficeandfire.com/api/characters/1852',\n",
       "  'https://www.anapioficeandfire.com/api/characters/1854',\n",
       "  'https://www.anapioficeandfire.com/api/characters/1856',\n",
       "  'https://www.anapioficeandfire.com/api/characters/1860',\n",
       "  'https://www.anapioficeandfire.com/api/characters/1861',\n",
       "  'https://www.anapioficeandfire.com/api/characters/1862',\n",
       "  'https://www.anapioficeandfire.com/api/characters/1864',\n",
       "  'https://www.anapioficeandfire.com/api/characters/1873',\n",
       "  'https://www.anapioficeandfire.com/api/characters/1880',\n",
       "  'https://www.anapioficeandfire.com/api/characters/1882',\n",
       "  'https://www.anapioficeandfire.com/api/characters/1885',\n",
       "  'https://www.anapioficeandfire.com/api/characters/1896',\n",
       "  'https://www.anapioficeandfire.com/api/characters/1900',\n",
       "  'https://www.anapioficeandfire.com/api/characters/1902',\n",
       "  'https://www.anapioficeandfire.com/api/characters/1903',\n",
       "  'https://www.anapioficeandfire.com/api/characters/1904',\n",
       "  'https://www.anapioficeandfire.com/api/characters/1911',\n",
       "  'https://www.anapioficeandfire.com/api/characters/1916',\n",
       "  'https://www.anapioficeandfire.com/api/characters/1917',\n",
       "  'https://www.anapioficeandfire.com/api/characters/1918',\n",
       "  'https://www.anapioficeandfire.com/api/characters/1920',\n",
       "  'https://www.anapioficeandfire.com/api/characters/1921',\n",
       "  'https://www.anapioficeandfire.com/api/characters/1922',\n",
       "  'https://www.anapioficeandfire.com/api/characters/1925',\n",
       "  'https://www.anapioficeandfire.com/api/characters/1926',\n",
       "  'https://www.anapioficeandfire.com/api/characters/1930',\n",
       "  'https://www.anapioficeandfire.com/api/characters/1931',\n",
       "  'https://www.anapioficeandfire.com/api/characters/1932',\n",
       "  'https://www.anapioficeandfire.com/api/characters/1933',\n",
       "  'https://www.anapioficeandfire.com/api/characters/1934',\n",
       "  'https://www.anapioficeandfire.com/api/characters/1935',\n",
       "  'https://www.anapioficeandfire.com/api/characters/1938',\n",
       "  'https://www.anapioficeandfire.com/api/characters/1939',\n",
       "  'https://www.anapioficeandfire.com/api/characters/1940',\n",
       "  'https://www.anapioficeandfire.com/api/characters/1941',\n",
       "  'https://www.anapioficeandfire.com/api/characters/1943',\n",
       "  'https://www.anapioficeandfire.com/api/characters/1947',\n",
       "  'https://www.anapioficeandfire.com/api/characters/1951',\n",
       "  'https://www.anapioficeandfire.com/api/characters/1952',\n",
       "  'https://www.anapioficeandfire.com/api/characters/1954',\n",
       "  'https://www.anapioficeandfire.com/api/characters/1955',\n",
       "  'https://www.anapioficeandfire.com/api/characters/1957',\n",
       "  'https://www.anapioficeandfire.com/api/characters/1959',\n",
       "  'https://www.anapioficeandfire.com/api/characters/1963',\n",
       "  'https://www.anapioficeandfire.com/api/characters/1964',\n",
       "  'https://www.anapioficeandfire.com/api/characters/1967',\n",
       "  'https://www.anapioficeandfire.com/api/characters/1969',\n",
       "  'https://www.anapioficeandfire.com/api/characters/1971',\n",
       "  'https://www.anapioficeandfire.com/api/characters/1972',\n",
       "  'https://www.anapioficeandfire.com/api/characters/1976',\n",
       "  'https://www.anapioficeandfire.com/api/characters/1977',\n",
       "  'https://www.anapioficeandfire.com/api/characters/1979',\n",
       "  'https://www.anapioficeandfire.com/api/characters/1984',\n",
       "  'https://www.anapioficeandfire.com/api/characters/1988',\n",
       "  'https://www.anapioficeandfire.com/api/characters/1990',\n",
       "  'https://www.anapioficeandfire.com/api/characters/1993',\n",
       "  'https://www.anapioficeandfire.com/api/characters/1994',\n",
       "  'https://www.anapioficeandfire.com/api/characters/1996',\n",
       "  'https://www.anapioficeandfire.com/api/characters/2002',\n",
       "  'https://www.anapioficeandfire.com/api/characters/2003',\n",
       "  'https://www.anapioficeandfire.com/api/characters/2005',\n",
       "  'https://www.anapioficeandfire.com/api/characters/2006',\n",
       "  'https://www.anapioficeandfire.com/api/characters/2007',\n",
       "  'https://www.anapioficeandfire.com/api/characters/2009',\n",
       "  'https://www.anapioficeandfire.com/api/characters/2010',\n",
       "  'https://www.anapioficeandfire.com/api/characters/2013',\n",
       "  'https://www.anapioficeandfire.com/api/characters/2014',\n",
       "  'https://www.anapioficeandfire.com/api/characters/2016',\n",
       "  'https://www.anapioficeandfire.com/api/characters/2017',\n",
       "  'https://www.anapioficeandfire.com/api/characters/2018',\n",
       "  'https://www.anapioficeandfire.com/api/characters/2020',\n",
       "  'https://www.anapioficeandfire.com/api/characters/2022',\n",
       "  'https://www.anapioficeandfire.com/api/characters/2024',\n",
       "  'https://www.anapioficeandfire.com/api/characters/2027',\n",
       "  'https://www.anapioficeandfire.com/api/characters/2031',\n",
       "  'https://www.anapioficeandfire.com/api/characters/2032',\n",
       "  'https://www.anapioficeandfire.com/api/characters/2035',\n",
       "  'https://www.anapioficeandfire.com/api/characters/2038',\n",
       "  'https://www.anapioficeandfire.com/api/characters/2041',\n",
       "  'https://www.anapioficeandfire.com/api/characters/2044',\n",
       "  'https://www.anapioficeandfire.com/api/characters/2045',\n",
       "  'https://www.anapioficeandfire.com/api/characters/2049',\n",
       "  'https://www.anapioficeandfire.com/api/characters/2050',\n",
       "  'https://www.anapioficeandfire.com/api/characters/2052',\n",
       "  'https://www.anapioficeandfire.com/api/characters/2060',\n",
       "  'https://www.anapioficeandfire.com/api/characters/2063',\n",
       "  'https://www.anapioficeandfire.com/api/characters/2065',\n",
       "  'https://www.anapioficeandfire.com/api/characters/2066',\n",
       "  'https://www.anapioficeandfire.com/api/characters/2067',\n",
       "  'https://www.anapioficeandfire.com/api/characters/2069',\n",
       "  'https://www.anapioficeandfire.com/api/characters/2070',\n",
       "  'https://www.anapioficeandfire.com/api/characters/2071',\n",
       "  'https://www.anapioficeandfire.com/api/characters/2072',\n",
       "  ...],\n",
       " 'povCharacters': ['https://www.anapioficeandfire.com/api/characters/148',\n",
       "  'https://www.anapioficeandfire.com/api/characters/208',\n",
       "  'https://www.anapioficeandfire.com/api/characters/232',\n",
       "  'https://www.anapioficeandfire.com/api/characters/529',\n",
       "  'https://www.anapioficeandfire.com/api/characters/583',\n",
       "  'https://www.anapioficeandfire.com/api/characters/751',\n",
       "  'https://www.anapioficeandfire.com/api/characters/954',\n",
       "  'https://www.anapioficeandfire.com/api/characters/957',\n",
       "  'https://www.anapioficeandfire.com/api/characters/1052',\n",
       "  'https://www.anapioficeandfire.com/api/characters/1267',\n",
       "  'https://www.anapioficeandfire.com/api/characters/1303',\n",
       "  'https://www.anapioficeandfire.com/api/characters/1319']}"
      ]
     },
     "execution_count": 14,
     "metadata": {},
     "output_type": "execute_result"
    }
   ],
   "source": [
    "response = requests.get(\"https://www.anapioficeandfire.com/api/books/3/\")\n",
    "\n",
    "response.json()"
   ]
  },
  {
   "cell_type": "code",
   "execution_count": 15,
   "metadata": {},
   "outputs": [
    {
     "data": {
      "text/plain": [
       "[{'url': 'https://www.anapioficeandfire.com/api/characters/1',\n",
       "  'name': '',\n",
       "  'gender': 'Female',\n",
       "  'culture': 'Braavosi',\n",
       "  'born': '',\n",
       "  'died': '',\n",
       "  'titles': [''],\n",
       "  'aliases': ['The Daughter of the Dusk'],\n",
       "  'father': '',\n",
       "  'mother': '',\n",
       "  'spouse': '',\n",
       "  'allegiances': [],\n",
       "  'books': ['https://www.anapioficeandfire.com/api/books/5'],\n",
       "  'povBooks': [],\n",
       "  'tvSeries': [''],\n",
       "  'playedBy': ['']},\n",
       " {'url': 'https://www.anapioficeandfire.com/api/characters/4',\n",
       "  'name': '',\n",
       "  'gender': 'Female',\n",
       "  'culture': 'Braavosi',\n",
       "  'born': '',\n",
       "  'died': '',\n",
       "  'titles': [''],\n",
       "  'aliases': ['The Merling Queen'],\n",
       "  'father': '',\n",
       "  'mother': '',\n",
       "  'spouse': '',\n",
       "  'allegiances': [],\n",
       "  'books': ['https://www.anapioficeandfire.com/api/books/5',\n",
       "   'https://www.anapioficeandfire.com/api/books/8'],\n",
       "  'povBooks': [],\n",
       "  'tvSeries': [''],\n",
       "  'playedBy': ['']},\n",
       " {'url': 'https://www.anapioficeandfire.com/api/characters/6',\n",
       "  'name': '',\n",
       "  'gender': 'Female',\n",
       "  'culture': 'Braavosi',\n",
       "  'born': '',\n",
       "  'died': '',\n",
       "  'titles': [''],\n",
       "  'aliases': ['The Poetess'],\n",
       "  'father': '',\n",
       "  'mother': '',\n",
       "  'spouse': '',\n",
       "  'allegiances': [],\n",
       "  'books': ['https://www.anapioficeandfire.com/api/books/5'],\n",
       "  'povBooks': [],\n",
       "  'tvSeries': [''],\n",
       "  'playedBy': ['']},\n",
       " {'url': 'https://www.anapioficeandfire.com/api/characters/7',\n",
       "  'name': '',\n",
       "  'gender': 'Female',\n",
       "  'culture': '',\n",
       "  'born': '',\n",
       "  'died': '',\n",
       "  'titles': [''],\n",
       "  'aliases': ['Porridge'],\n",
       "  'father': '',\n",
       "  'mother': '',\n",
       "  'spouse': '',\n",
       "  'allegiances': ['https://www.anapioficeandfire.com/api/houses/15'],\n",
       "  'books': ['https://www.anapioficeandfire.com/api/books/3'],\n",
       "  'povBooks': [],\n",
       "  'tvSeries': [''],\n",
       "  'playedBy': ['']},\n",
       " {'url': 'https://www.anapioficeandfire.com/api/characters/9',\n",
       "  'name': '',\n",
       "  'gender': 'Female',\n",
       "  'culture': '',\n",
       "  'born': '',\n",
       "  'died': '',\n",
       "  'titles': [''],\n",
       "  'aliases': [\"the Sailor's Wife\"],\n",
       "  'father': '',\n",
       "  'mother': '',\n",
       "  'spouse': '',\n",
       "  'allegiances': [],\n",
       "  'books': ['https://www.anapioficeandfire.com/api/books/5'],\n",
       "  'povBooks': [],\n",
       "  'tvSeries': [''],\n",
       "  'playedBy': ['']},\n",
       " {'url': 'https://www.anapioficeandfire.com/api/characters/10',\n",
       "  'name': '',\n",
       "  'gender': 'Female',\n",
       "  'culture': 'Braavosi',\n",
       "  'born': '',\n",
       "  'died': '',\n",
       "  'titles': [''],\n",
       "  'aliases': ['The Veiled Lady'],\n",
       "  'father': '',\n",
       "  'mother': '',\n",
       "  'spouse': '',\n",
       "  'allegiances': [],\n",
       "  'books': ['https://www.anapioficeandfire.com/api/books/5'],\n",
       "  'povBooks': [],\n",
       "  'tvSeries': [''],\n",
       "  'playedBy': ['']},\n",
       " {'url': 'https://www.anapioficeandfire.com/api/characters/11',\n",
       "  'name': '',\n",
       "  'gender': 'Female',\n",
       "  'culture': 'Braavosi',\n",
       "  'born': 'In 263 AC or 264 AC',\n",
       "  'died': '',\n",
       "  'titles': [''],\n",
       "  'aliases': ['The waif'],\n",
       "  'father': '',\n",
       "  'mother': '',\n",
       "  'spouse': '',\n",
       "  'allegiances': [],\n",
       "  'books': ['https://www.anapioficeandfire.com/api/books/5',\n",
       "   'https://www.anapioficeandfire.com/api/books/8'],\n",
       "  'povBooks': [],\n",
       "  'tvSeries': ['Season 5', 'Season 6'],\n",
       "  'playedBy': ['Faye Marsay']},\n",
       " {'url': 'https://www.anapioficeandfire.com/api/characters/16',\n",
       "  'name': 'Margaery Tyrell',\n",
       "  'gender': 'Female',\n",
       "  'culture': 'Westeros',\n",
       "  'born': 'In 283 AC, at Highgarden',\n",
       "  'died': '',\n",
       "  'titles': ['Queen of the Seven Kingdoms'],\n",
       "  'aliases': ['The Little Queen', 'The Little Rose', 'Maid Margaery'],\n",
       "  'father': '',\n",
       "  'mother': '',\n",
       "  'spouse': 'https://www.anapioficeandfire.com/api/characters/862',\n",
       "  'allegiances': ['https://www.anapioficeandfire.com/api/houses/398'],\n",
       "  'books': ['https://www.anapioficeandfire.com/api/books/1',\n",
       "   'https://www.anapioficeandfire.com/api/books/2',\n",
       "   'https://www.anapioficeandfire.com/api/books/3',\n",
       "   'https://www.anapioficeandfire.com/api/books/5',\n",
       "   'https://www.anapioficeandfire.com/api/books/8'],\n",
       "  'povBooks': [],\n",
       "  'tvSeries': ['Season 2', 'Season 3', 'Season 4', 'Season 5', 'Season 6'],\n",
       "  'playedBy': ['Natalie Dormer']},\n",
       " {'url': 'https://www.anapioficeandfire.com/api/characters/17',\n",
       "  'name': 'Melicent',\n",
       "  'gender': 'Female',\n",
       "  'culture': '',\n",
       "  'born': '',\n",
       "  'died': '',\n",
       "  'titles': ['Septa'],\n",
       "  'aliases': [''],\n",
       "  'father': '',\n",
       "  'mother': '',\n",
       "  'spouse': '',\n",
       "  'allegiances': [],\n",
       "  'books': ['https://www.anapioficeandfire.com/api/books/5'],\n",
       "  'povBooks': [],\n",
       "  'tvSeries': [''],\n",
       "  'playedBy': ['']},\n",
       " {'url': 'https://www.anapioficeandfire.com/api/characters/19',\n",
       "  'name': 'Moelle',\n",
       "  'gender': 'Female',\n",
       "  'culture': '',\n",
       "  'born': '',\n",
       "  'died': '',\n",
       "  'titles': ['Septa'],\n",
       "  'aliases': [''],\n",
       "  'father': '',\n",
       "  'mother': '',\n",
       "  'spouse': '',\n",
       "  'allegiances': [],\n",
       "  'books': ['https://www.anapioficeandfire.com/api/books/5',\n",
       "   'https://www.anapioficeandfire.com/api/books/8'],\n",
       "  'povBooks': [],\n",
       "  'tvSeries': [''],\n",
       "  'playedBy': ['']}]"
      ]
     },
     "execution_count": 15,
     "metadata": {},
     "output_type": "execute_result"
    }
   ],
   "source": [
    "response = requests.get(\"https://www.anapioficeandfire.com/api/characters/\",\n",
    "  params = {\"gender\":\"Female\", \"isAlive\":True}\n",
    ")\n",
    "\n",
    "response.json()"
   ]
  },
  {
   "cell_type": "code",
   "execution_count": null,
   "metadata": {},
   "outputs": [],
   "source": []
  },
  {
   "cell_type": "code",
   "execution_count": null,
   "metadata": {},
   "outputs": [],
   "source": []
  },
  {
   "cell_type": "code",
   "execution_count": null,
   "metadata": {},
   "outputs": [],
   "source": []
  },
  {
   "cell_type": "code",
   "execution_count": null,
   "metadata": {},
   "outputs": [],
   "source": []
  },
  {
   "cell_type": "code",
   "execution_count": null,
   "metadata": {},
   "outputs": [],
   "source": []
  },
  {
   "cell_type": "code",
   "execution_count": null,
   "metadata": {},
   "outputs": [],
   "source": []
  },
  {
   "cell_type": "code",
   "execution_count": null,
   "metadata": {},
   "outputs": [],
   "source": []
  },
  {
   "cell_type": "code",
   "execution_count": null,
   "metadata": {},
   "outputs": [],
   "source": []
  },
  {
   "cell_type": "code",
   "execution_count": null,
   "metadata": {},
   "outputs": [],
   "source": []
  },
  {
   "cell_type": "code",
   "execution_count": null,
   "metadata": {},
   "outputs": [],
   "source": []
  },
  {
   "cell_type": "code",
   "execution_count": null,
   "metadata": {},
   "outputs": [],
   "source": []
  },
  {
   "cell_type": "code",
   "execution_count": null,
   "metadata": {},
   "outputs": [],
   "source": []
  },
  {
   "cell_type": "code",
   "execution_count": null,
   "metadata": {},
   "outputs": [],
   "source": []
  },
  {
   "cell_type": "code",
   "execution_count": null,
   "metadata": {},
   "outputs": [],
   "source": []
  },
  {
   "cell_type": "code",
   "execution_count": null,
   "metadata": {},
   "outputs": [],
   "source": []
  },
  {
   "cell_type": "code",
   "execution_count": null,
   "metadata": {},
   "outputs": [],
   "source": []
  },
  {
   "cell_type": "code",
   "execution_count": null,
   "metadata": {},
   "outputs": [],
   "source": []
  },
  {
   "cell_type": "code",
   "execution_count": null,
   "metadata": {},
   "outputs": [],
   "source": []
  },
  {
   "cell_type": "code",
   "execution_count": null,
   "metadata": {},
   "outputs": [],
   "source": []
  },
  {
   "cell_type": "code",
   "execution_count": null,
   "metadata": {},
   "outputs": [],
   "source": []
  },
  {
   "cell_type": "code",
   "execution_count": null,
   "metadata": {},
   "outputs": [],
   "source": []
  },
  {
   "cell_type": "code",
   "execution_count": null,
   "metadata": {},
   "outputs": [],
   "source": []
  },
  {
   "cell_type": "code",
   "execution_count": null,
   "metadata": {},
   "outputs": [],
   "source": []
  },
  {
   "cell_type": "code",
   "execution_count": null,
   "metadata": {},
   "outputs": [],
   "source": []
  },
  {
   "cell_type": "code",
   "execution_count": null,
   "metadata": {},
   "outputs": [],
   "source": []
  },
  {
   "cell_type": "code",
   "execution_count": null,
   "metadata": {},
   "outputs": [],
   "source": []
  },
  {
   "cell_type": "code",
   "execution_count": null,
   "metadata": {},
   "outputs": [],
   "source": []
  },
  {
   "cell_type": "code",
   "execution_count": null,
   "metadata": {},
   "outputs": [],
   "source": []
  },
  {
   "cell_type": "code",
   "execution_count": null,
   "metadata": {},
   "outputs": [],
   "source": []
  },
  {
   "cell_type": "code",
   "execution_count": null,
   "metadata": {},
   "outputs": [],
   "source": []
  },
  {
   "cell_type": "code",
   "execution_count": null,
   "metadata": {},
   "outputs": [],
   "source": []
  },
  {
   "cell_type": "code",
   "execution_count": null,
   "metadata": {},
   "outputs": [],
   "source": []
  },
  {
   "cell_type": "code",
   "execution_count": null,
   "metadata": {},
   "outputs": [],
   "source": []
  },
  {
   "cell_type": "code",
   "execution_count": null,
   "metadata": {},
   "outputs": [],
   "source": []
  },
  {
   "cell_type": "code",
   "execution_count": null,
   "metadata": {},
   "outputs": [],
   "source": []
  },
  {
   "cell_type": "code",
   "execution_count": null,
   "metadata": {},
   "outputs": [],
   "source": []
  },
  {
   "cell_type": "code",
   "execution_count": null,
   "metadata": {},
   "outputs": [],
   "source": []
  },
  {
   "cell_type": "code",
   "execution_count": null,
   "metadata": {},
   "outputs": [],
   "source": []
  },
  {
   "cell_type": "code",
   "execution_count": null,
   "metadata": {},
   "outputs": [],
   "source": []
  },
  {
   "cell_type": "code",
   "execution_count": null,
   "metadata": {},
   "outputs": [],
   "source": []
  },
  {
   "cell_type": "code",
   "execution_count": null,
   "metadata": {},
   "outputs": [],
   "source": []
  },
  {
   "cell_type": "code",
   "execution_count": null,
   "metadata": {},
   "outputs": [],
   "source": []
  },
  {
   "cell_type": "code",
   "execution_count": null,
   "metadata": {},
   "outputs": [],
   "source": []
  },
  {
   "cell_type": "code",
   "execution_count": null,
   "metadata": {},
   "outputs": [],
   "source": []
  },
  {
   "cell_type": "code",
   "execution_count": null,
   "metadata": {},
   "outputs": [],
   "source": []
  },
  {
   "cell_type": "code",
   "execution_count": null,
   "metadata": {},
   "outputs": [],
   "source": []
  },
  {
   "cell_type": "code",
   "execution_count": null,
   "metadata": {},
   "outputs": [],
   "source": []
  },
  {
   "cell_type": "code",
   "execution_count": null,
   "metadata": {},
   "outputs": [],
   "source": []
  },
  {
   "cell_type": "code",
   "execution_count": null,
   "metadata": {},
   "outputs": [],
   "source": []
  },
  {
   "cell_type": "code",
   "execution_count": null,
   "metadata": {},
   "outputs": [],
   "source": []
  },
  {
   "cell_type": "code",
   "execution_count": null,
   "metadata": {},
   "outputs": [],
   "source": []
  },
  {
   "cell_type": "code",
   "execution_count": null,
   "metadata": {},
   "outputs": [],
   "source": []
  },
  {
   "cell_type": "code",
   "execution_count": null,
   "metadata": {},
   "outputs": [],
   "source": []
  },
  {
   "cell_type": "code",
   "execution_count": null,
   "metadata": {},
   "outputs": [],
   "source": []
  },
  {
   "cell_type": "code",
   "execution_count": null,
   "metadata": {},
   "outputs": [],
   "source": []
  },
  {
   "cell_type": "code",
   "execution_count": null,
   "metadata": {},
   "outputs": [],
   "source": []
  },
  {
   "cell_type": "code",
   "execution_count": null,
   "metadata": {},
   "outputs": [],
   "source": []
  },
  {
   "cell_type": "code",
   "execution_count": null,
   "metadata": {},
   "outputs": [],
   "source": []
  },
  {
   "cell_type": "code",
   "execution_count": null,
   "metadata": {},
   "outputs": [],
   "source": []
  },
  {
   "cell_type": "code",
   "execution_count": null,
   "metadata": {},
   "outputs": [],
   "source": []
  },
  {
   "cell_type": "code",
   "execution_count": null,
   "metadata": {},
   "outputs": [],
   "source": []
  },
  {
   "cell_type": "code",
   "execution_count": null,
   "metadata": {},
   "outputs": [],
   "source": []
  },
  {
   "cell_type": "code",
   "execution_count": null,
   "metadata": {},
   "outputs": [],
   "source": []
  },
  {
   "cell_type": "code",
   "execution_count": null,
   "metadata": {},
   "outputs": [],
   "source": []
  },
  {
   "cell_type": "code",
   "execution_count": null,
   "metadata": {},
   "outputs": [],
   "source": []
  },
  {
   "cell_type": "code",
   "execution_count": null,
   "metadata": {},
   "outputs": [],
   "source": []
  },
  {
   "cell_type": "code",
   "execution_count": null,
   "metadata": {},
   "outputs": [],
   "source": []
  },
  {
   "cell_type": "code",
   "execution_count": null,
   "metadata": {},
   "outputs": [],
   "source": []
  },
  {
   "cell_type": "code",
   "execution_count": null,
   "metadata": {},
   "outputs": [],
   "source": []
  },
  {
   "cell_type": "code",
   "execution_count": null,
   "metadata": {},
   "outputs": [],
   "source": []
  },
  {
   "cell_type": "code",
   "execution_count": null,
   "metadata": {},
   "outputs": [],
   "source": []
  },
  {
   "cell_type": "code",
   "execution_count": null,
   "metadata": {},
   "outputs": [],
   "source": []
  },
  {
   "cell_type": "code",
   "execution_count": null,
   "metadata": {},
   "outputs": [],
   "source": []
  },
  {
   "cell_type": "code",
   "execution_count": null,
   "metadata": {},
   "outputs": [],
   "source": []
  },
  {
   "cell_type": "code",
   "execution_count": null,
   "metadata": {},
   "outputs": [],
   "source": []
  },
  {
   "cell_type": "code",
   "execution_count": null,
   "metadata": {},
   "outputs": [],
   "source": []
  },
  {
   "cell_type": "code",
   "execution_count": null,
   "metadata": {},
   "outputs": [],
   "source": []
  },
  {
   "cell_type": "code",
   "execution_count": null,
   "metadata": {},
   "outputs": [],
   "source": []
  },
  {
   "cell_type": "code",
   "execution_count": null,
   "metadata": {},
   "outputs": [],
   "source": []
  },
  {
   "cell_type": "code",
   "execution_count": null,
   "metadata": {},
   "outputs": [],
   "source": []
  },
  {
   "cell_type": "code",
   "execution_count": null,
   "metadata": {},
   "outputs": [],
   "source": []
  },
  {
   "cell_type": "code",
   "execution_count": null,
   "metadata": {},
   "outputs": [],
   "source": []
  },
  {
   "cell_type": "code",
   "execution_count": null,
   "metadata": {},
   "outputs": [],
   "source": []
  }
 ],
 "metadata": {
  "kernelspec": {
   "display_name": "Python 3",
   "language": "python",
   "name": "python3"
  },
  "language_info": {
   "codemirror_mode": {
    "name": "ipython",
    "version": 3
   },
   "file_extension": ".py",
   "mimetype": "text/x-python",
   "name": "python",
   "nbconvert_exporter": "python",
   "pygments_lexer": "ipython3",
   "version": "3.8.3"
  }
 },
 "nbformat": 4,
 "nbformat_minor": 4
}
