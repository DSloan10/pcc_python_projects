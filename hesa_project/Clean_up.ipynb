{
 "cells": [
  {
   "cell_type": "code",
   "execution_count": 1,
   "metadata": {},
   "outputs": [],
   "source": [
    "import pandas as pd\n",
    "import numpy as np\n",
    "import janitor as jntr\n",
    "import difflib\n",
    "\n",
    "characteristic_data = pd.read_csv(\"hego_data/hego_17_18_salary_by_characteristic.csv\", skiprows = 13).clean_names()\n",
    "institution_data = pd.read_csv(\"hego_data/hego_17_18_salary_by_institution.csv\", skiprows = 13).clean_names()\n",
    "subject_data = pd.read_csv(\"hego_data/hego_17_18_salary_by_subject.csv\", skiprows = 13).clean_names()\n",
    "uni_codes = pd.read_excel(\"hego_data/institution-and-campus-codes-2018-entry.xls\").clean_names()\n",
    "rankings_data = pd.read_csv(\"hego_data/Complete_University_Guide_University_League_Table.csv\", skiprows=4).clean_names()"
   ]
  },
  {
   "cell_type": "markdown",
   "metadata": {},
   "source": [
    "To begin with and to make sure everything is working, only one year will be used. All the other data that has been read in refers only to this year (17/18 that is) so only the ranking dataset needs filtered."
   ]
  },
  {
   "cell_type": "code",
   "execution_count": 2,
   "metadata": {},
   "outputs": [],
   "source": [
    "rankings_2017 = rankings_data.loc[rankings_data[\"year\"] == 2017].copy()"
   ]
  },
  {
   "cell_type": "markdown",
   "metadata": {},
   "source": [
    "I've been having problems with these datasets whilst trying to join them on the instituion/provider names. I've tried to do this by using what's known as fuzzy merging. This has worked to a degree, but has thrown up some significant issues. I'm now going to try and create a more concise merging process so that I can see if the merging and then correcting I've used has worked."
   ]
  },
  {
   "cell_type": "code",
   "execution_count": 3,
   "metadata": {},
   "outputs": [],
   "source": [
    "institution_data_for_merge = institution_data.copy()"
   ]
  },
  {
   "cell_type": "code",
   "execution_count": 4,
   "metadata": {},
   "outputs": [],
   "source": [
    "just_2017_rankings = rankings_2017.loc[:,[\"rank\", \"institution\"]].copy()"
   ]
  },
  {
   "cell_type": "markdown",
   "metadata": {},
   "source": [
    "Now to define our fuzzy merge function using the following source: \n",
    "\n",
    "https://stackoverflow.com/questions/13636848/is-it-possible-to-do-fuzzy-match-merge-with-python-pandas/60908516#60908516"
   ]
  },
  {
   "cell_type": "code",
   "execution_count": 5,
   "metadata": {},
   "outputs": [],
   "source": [
    "def fuzzy_merge(df1, df2, left_on, right_on, how='inner', cutoff=0.6):\n",
    "    df_other= df2.copy()\n",
    "    df_other[left_on] = [get_closest_match(x, df1[left_on], cutoff) \n",
    "                         for x in df_other[right_on]]\n",
    "    return df1.merge(df_other, on=left_on, how=how)\n",
    "\n",
    "def get_closest_match(x, other, cutoff):\n",
    "    matches = difflib.get_close_matches(x, other, cutoff=cutoff)\n",
    "    return matches[0] if matches else None"
   ]
  },
  {
   "cell_type": "markdown",
   "metadata": {},
   "source": [
    "Through trial and error, I've worked out that the function was getting a little confused when it came to certain titles, especially \"The University of....\". With this in mind, I altered the provider names before the merge."
   ]
  },
  {
   "cell_type": "code",
   "execution_count": 6,
   "metadata": {},
   "outputs": [],
   "source": [
    "institution_data_for_merge[\"provider_name\"] = institution_data_for_merge[\"provider_name\"].str.replace(\"University\", '')"
   ]
  },
  {
   "cell_type": "markdown",
   "metadata": {},
   "source": [
    "Now time for the merge. This will require further modification and for this reason is being labelled provisional:"
   ]
  },
  {
   "cell_type": "code",
   "execution_count": 7,
   "metadata": {},
   "outputs": [],
   "source": [
    "provisional_merge = fuzzy_merge(institution_data_for_merge, just_2017_rankings, left_on='provider_name', right_on='institution').copy()"
   ]
  },
  {
   "cell_type": "markdown",
   "metadata": {},
   "source": [
    "So just like last time, there's a certain amount of institutions that have been misclassified and need to be hard-coded out and in:"
   ]
  },
  {
   "cell_type": "code",
   "execution_count": 8,
   "metadata": {},
   "outputs": [],
   "source": [
    "provisional_merge = provisional_merge[~provisional_merge['provider_name'].isin(['College London', 'of Cumbria', 'Arden', 'Bath Spa', 'Birmingham City', 'Liverpool Hope', 'London School of Theology', 'Southport College'])]"
   ]
  },
  {
   "cell_type": "code",
   "execution_count": 9,
   "metadata": {},
   "outputs": [],
   "source": [
    "second_institution_merge_data = institution_data.copy()"
   ]
  },
  {
   "cell_type": "code",
   "execution_count": 10,
   "metadata": {},
   "outputs": [],
   "source": [
    "second_institution_merge_data['provider_name'] = second_institution_merge_data['provider_name'].replace({'Imperial College of Science, Technology and Medicine': 'Imperial College London'})"
   ]
  },
  {
   "cell_type": "code",
   "execution_count": 11,
   "metadata": {},
   "outputs": [],
   "source": [
    "second_institution_merge_data = second_institution_merge_data[second_institution_merge_data[\"provider_name\"].isin(['Imperial College London', 'University College London', 'University of Northumbria at Newcastle', 'University of Cumbria', 'Arden University', 'The University of Aberdeen', 'The University of Bath', 'Bath Spa University', 'The University of Liverpool', 'Liverpool Hope University', 'London School of Economics and Political Science', 'The University of Southampton', 'Solent University', 'The University of Birmingham', 'The University of York', 'The University of Kent', 'Royal Holloway and Bedford New College', 'The University of Essex', 'Goldsmiths College', 'The University of Hull', 'University of St Mark and St John'])]\n"
   ]
  },
  {
   "cell_type": "code",
   "execution_count": 12,
   "metadata": {},
   "outputs": [],
   "source": [
    "conditions = [\n",
    "    (second_institution_merge_data['provider_name'] == \"Imperial College London\"),\n",
    "    (second_institution_merge_data['provider_name'] == \"University College London\"),\n",
    "    (second_institution_merge_data['provider_name'] == \"University of Northumbria at Newcastle\"),\n",
    "    (second_institution_merge_data['provider_name'] == \"University of Cumbria\"),\n",
    "    (second_institution_merge_data['provider_name'] == \"Arden University\"),\n",
    "    (second_institution_merge_data['provider_name'] == \"The University of Aberdeen\"),\n",
    "    (second_institution_merge_data['provider_name'] == \"The University of Bath\"),\n",
    "    (second_institution_merge_data['provider_name'] == \"Bath Spa University\"),\n",
    "    (second_institution_merge_data['provider_name'] == \"The University of Liverpool\"),\n",
    "    (second_institution_merge_data['provider_name'] == \"Liverpool Hope University\"),\n",
    "    (second_institution_merge_data['provider_name'] == \"London School of Economics and Political Science\"),\n",
    "    (second_institution_merge_data['provider_name'] == \"The University of Southampton\"),\n",
    "    (second_institution_merge_data['provider_name'] == \"Solent University\"),\n",
    "    (second_institution_merge_data['provider_name'] == \"The University of Birmingham\"),\n",
    "    (second_institution_merge_data['provider_name'] == \"The University of York\"),\n",
    "    (second_institution_merge_data['provider_name'] == \"The University of Kent\"),\n",
    "    (second_institution_merge_data['provider_name'] == \"Royal Holloway and Bedford New College\"),\n",
    "    (second_institution_merge_data['provider_name'] == \"The University of Essex\"),\n",
    "    (second_institution_merge_data['provider_name'] == \"Goldsmiths College\"),\n",
    "    (second_institution_merge_data['provider_name'] == \"The University of Hull\"),\n",
    "    (second_institution_merge_data['provider_name'] == \"University of St Mark and St John\")\n",
    "]\n",
    "\n",
    "values = [4, 10, 59, 121,\"NA\",42,11,76,38,83,3,17,115,15, 20, 23, 37, 41, 51, 68, 124]\n",
    "\n",
    "second_institution_merge_data['rank'] = np.select(conditions, values)"
   ]
  },
  {
   "cell_type": "code",
   "execution_count": 13,
   "metadata": {},
   "outputs": [],
   "source": [
    "second_institution_merge_data[\"institution\"] = second_institution_merge_data[\"provider_name\"]"
   ]
  },
  {
   "cell_type": "code",
   "execution_count": null,
   "metadata": {},
   "outputs": [],
   "source": []
  }
 ],
 "metadata": {
  "kernelspec": {
   "display_name": "Python 3",
   "language": "python",
   "name": "python3"
  },
  "language_info": {
   "codemirror_mode": {
    "name": "ipython",
    "version": 3
   },
   "file_extension": ".py",
   "mimetype": "text/x-python",
   "name": "python",
   "nbconvert_exporter": "python",
   "pygments_lexer": "ipython3",
   "version": "3.8.3"
  }
 },
 "nbformat": 4,
 "nbformat_minor": 4
}
