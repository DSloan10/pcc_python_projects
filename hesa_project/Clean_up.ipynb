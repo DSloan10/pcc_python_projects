{
 "cells": [
  {
   "cell_type": "code",
   "execution_count": 3,
   "metadata": {},
   "outputs": [],
   "source": [
    "import pandas as pd\n",
    "import numpy as np\n",
    "import janitor as jntr\n",
    "\n",
    "characteristic_data = pd.read_csv(\"hego_data/hego_17_18_salary_by_characteristic.csv\", skiprows = 13).clean_names()\n",
    "institution_data = pd.read_csv(\"hego_data/hego_17_18_salary_by_institution.csv\", skiprows = 13).clean_names()\n",
    "subject_data = pd.read_csv(\"hego_data/hego_17_18_salary_by_subject.csv\", skiprows = 13).clean_names()\n",
    "uni_codes = pd.read_excel(\"hego_data/institution-and-campus-codes-2018-entry.xls\").clean_names()"
   ]
  },
  {
   "cell_type": "code",
   "execution_count": null,
   "metadata": {},
   "outputs": [],
   "source": []
  }
 ],
 "metadata": {
  "kernelspec": {
   "display_name": "Python 3",
   "language": "python",
   "name": "python3"
  },
  "language_info": {
   "codemirror_mode": {
    "name": "ipython",
    "version": 3
   },
   "file_extension": ".py",
   "mimetype": "text/x-python",
   "name": "python",
   "nbconvert_exporter": "python",
   "pygments_lexer": "ipython3",
   "version": "3.8.3"
  }
 },
 "nbformat": 4,
 "nbformat_minor": 4
}
